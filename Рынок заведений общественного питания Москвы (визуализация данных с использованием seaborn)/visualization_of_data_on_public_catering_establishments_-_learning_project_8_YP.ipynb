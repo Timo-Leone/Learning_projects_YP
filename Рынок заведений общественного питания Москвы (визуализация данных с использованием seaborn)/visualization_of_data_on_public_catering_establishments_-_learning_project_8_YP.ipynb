{
 "cells": [
  {
   "cell_type": "markdown",
   "metadata": {},
   "source": [
    "# Рынок заведений общественного питания Москвы"
   ]
  },
  {
   "cell_type": "markdown",
   "metadata": {},
   "source": [
    "# Содержание\n",
    "\n",
    "1. [Загрузка и подготовка данных к анализу](#1.-Загрузка-и-подготовка-данных-к-анализу)\n",
    "\n",
    "\n",
    "2. [Анализ данных](#2.-Анализ-данных)\n",
    "\n",
    "  2.1. [Соотношение видов объектов общественного питания по количеству](#2.1.-Соотношение-видов-объектов-общественного-питания-по-количеству)\n",
    "\n",
    "  2.2. [Соотношение сетевых и несетевых заведений по количеству](#2.2.-Соотношение-сетевых-и-несетевых-заведений-по-количеству)\n",
    "\n",
    "  2.3. [Объекты общественного питания, для которых характерно сетевое распространение](#2.3.-Объекты-общественного-питания,-для-которых-характерно-сетевое-распространение)\n",
    "\n",
    "  2.4. [Число посадочных мест в сетевых заведениях](#2.4.-Число-посадочных-мест-в-сетевых-заведениях)\n",
    "\n",
    "  2.5. [Среднее количество посадочных мест для каждого вида объекта общественного питания](#2.5.-Среднее-количество-посадочных-мест-для-каждого-вида-объекта-общественного-питания)\n",
    "\n",
    "  2.6. [Топ-10 улиц по количеству объектов общественного питания](#2.6.-Топ-10-улиц-по-количеству-объектов-общественного-питания)\n",
    "\n",
    "  2.7. [Улицы с одним объектом общественного питания](#2.7.-Улицы-с-одним-объектом-общественного-питания)\n",
    "\n",
    "  2.8. [Распределение количества посадочных мест для улиц с большим количеством объектов общественного питания](#2.8.-Распределение-количества-посадочных-мест-для-улиц-с-большим-количеством-объектов-общественного-питания)\n",
    "\n",
    "  2.9. [Выводы и рекомендации](#2.9.-Выводы-и-рекомендации)\n",
    "\n",
    "\n",
    "3. [Презентация](#3.-Презентация)"
   ]
  },
  {
   "cell_type": "markdown",
   "metadata": {},
   "source": [
    "# 1. Загрузка и подготовка данных к анализу"
   ]
  },
  {
   "cell_type": "code",
   "execution_count": 1,
   "metadata": {},
   "outputs": [],
   "source": [
    "import pandas as pd\n",
    "import matplotlib.pyplot as plt\n",
    "import seaborn as sns\n",
    "import re\n",
    "\n",
    "import warnings\n",
    "warnings.filterwarnings('ignore')"
   ]
  },
  {
   "cell_type": "code",
   "execution_count": 2,
   "metadata": {},
   "outputs": [],
   "source": [
    "try:\n",
    "    df = pd.read_csv('/datasets/rest_data.csv')\n",
    "except:\n",
    "    df = pd.read_csv('rest_data.csv')"
   ]
  },
  {
   "cell_type": "code",
   "execution_count": 3,
   "metadata": {},
   "outputs": [
    {
     "data": {
      "text/html": [
       "<div>\n",
       "<style scoped>\n",
       "    .dataframe tbody tr th:only-of-type {\n",
       "        vertical-align: middle;\n",
       "    }\n",
       "\n",
       "    .dataframe tbody tr th {\n",
       "        vertical-align: top;\n",
       "    }\n",
       "\n",
       "    .dataframe thead th {\n",
       "        text-align: right;\n",
       "    }\n",
       "</style>\n",
       "<table border=\"1\" class=\"dataframe\">\n",
       "  <thead>\n",
       "    <tr style=\"text-align: right;\">\n",
       "      <th></th>\n",
       "      <th>id</th>\n",
       "      <th>object_name</th>\n",
       "      <th>chain</th>\n",
       "      <th>object_type</th>\n",
       "      <th>address</th>\n",
       "      <th>number</th>\n",
       "    </tr>\n",
       "  </thead>\n",
       "  <tbody>\n",
       "    <tr>\n",
       "      <th>8982</th>\n",
       "      <td>159373</td>\n",
       "      <td>ПЕКАРНЯ «АМБАР»</td>\n",
       "      <td>нет</td>\n",
       "      <td>магазин (отдел кулинарии)</td>\n",
       "      <td>город Москва, Ангелов переулок, дом 8</td>\n",
       "      <td>10</td>\n",
       "    </tr>\n",
       "    <tr>\n",
       "      <th>5975</th>\n",
       "      <td>29424</td>\n",
       "      <td>ГОУ СОШ № 1595</td>\n",
       "      <td>нет</td>\n",
       "      <td>столовая</td>\n",
       "      <td>город Москва, 2-я Вольская улица, дом 7, корпус 2</td>\n",
       "      <td>184</td>\n",
       "    </tr>\n",
       "    <tr>\n",
       "      <th>819</th>\n",
       "      <td>124628</td>\n",
       "      <td>Сабвей</td>\n",
       "      <td>да</td>\n",
       "      <td>предприятие быстрого обслуживания</td>\n",
       "      <td>город Москва, Садовническая улица, дом 42, стр...</td>\n",
       "      <td>40</td>\n",
       "    </tr>\n",
       "    <tr>\n",
       "      <th>14268</th>\n",
       "      <td>209095</td>\n",
       "      <td>Суши-бар YOCOSO</td>\n",
       "      <td>нет</td>\n",
       "      <td>предприятие быстрого обслуживания</td>\n",
       "      <td>город Москва, улица Перерва, дом 43, корпус 1</td>\n",
       "      <td>0</td>\n",
       "    </tr>\n",
       "    <tr>\n",
       "      <th>3690</th>\n",
       "      <td>20420</td>\n",
       "      <td>БАР СПОРТКЛУБА</td>\n",
       "      <td>нет</td>\n",
       "      <td>бар</td>\n",
       "      <td>город Москва, площадь Европы, дом 2</td>\n",
       "      <td>10</td>\n",
       "    </tr>\n",
       "  </tbody>\n",
       "</table>\n",
       "</div>"
      ],
      "text/plain": [
       "           id      object_name chain                        object_type  \\\n",
       "8982   159373  ПЕКАРНЯ «АМБАР»   нет          магазин (отдел кулинарии)   \n",
       "5975    29424   ГОУ СОШ № 1595   нет                           столовая   \n",
       "819    124628           Сабвей    да  предприятие быстрого обслуживания   \n",
       "14268  209095  Суши-бар YOCOSO   нет  предприятие быстрого обслуживания   \n",
       "3690    20420   БАР СПОРТКЛУБА   нет                                бар   \n",
       "\n",
       "                                                 address  number  \n",
       "8982               город Москва, Ангелов переулок, дом 8      10  \n",
       "5975   город Москва, 2-я Вольская улица, дом 7, корпус 2     184  \n",
       "819    город Москва, Садовническая улица, дом 42, стр...      40  \n",
       "14268      город Москва, улица Перерва, дом 43, корпус 1       0  \n",
       "3690                 город Москва, площадь Европы, дом 2      10  "
      ]
     },
     "execution_count": 3,
     "metadata": {},
     "output_type": "execute_result"
    }
   ],
   "source": [
    "df.sample(5)"
   ]
  },
  {
   "cell_type": "code",
   "execution_count": 4,
   "metadata": {},
   "outputs": [
    {
     "name": "stdout",
     "output_type": "stream",
     "text": [
      "<class 'pandas.core.frame.DataFrame'>\n",
      "RangeIndex: 15366 entries, 0 to 15365\n",
      "Data columns (total 6 columns):\n",
      " #   Column       Non-Null Count  Dtype \n",
      "---  ------       --------------  ----- \n",
      " 0   id           15366 non-null  int64 \n",
      " 1   object_name  15366 non-null  object\n",
      " 2   chain        15366 non-null  object\n",
      " 3   object_type  15366 non-null  object\n",
      " 4   address      15366 non-null  object\n",
      " 5   number       15366 non-null  int64 \n",
      "dtypes: int64(2), object(4)\n",
      "memory usage: 720.4+ KB\n"
     ]
    }
   ],
   "source": [
    "df.info()"
   ]
  },
  {
   "cell_type": "markdown",
   "metadata": {},
   "source": [
    "Данные загружены, пропусков нет."
   ]
  },
  {
   "cell_type": "code",
   "execution_count": 5,
   "metadata": {},
   "outputs": [
    {
     "data": {
      "text/plain": [
       "0"
      ]
     },
     "execution_count": 5,
     "metadata": {},
     "output_type": "execute_result"
    }
   ],
   "source": [
    "df[['id', 'object_name', 'chain', 'object_type', 'address', 'number']].duplicated().sum()"
   ]
  },
  {
   "cell_type": "markdown",
   "metadata": {},
   "source": [
    "Дубликаты строк отсутствуют."
   ]
  },
  {
   "cell_type": "code",
   "execution_count": 6,
   "metadata": {},
   "outputs": [
    {
     "data": {
      "text/plain": [
       "207"
      ]
     },
     "execution_count": 6,
     "metadata": {},
     "output_type": "execute_result"
    }
   ],
   "source": [
    "df[['object_name', 'address']].duplicated().sum()"
   ]
  },
  {
   "cell_type": "markdown",
   "metadata": {},
   "source": [
    "Есть строки с одинаковыми названиями заведений и адресом."
   ]
  },
  {
   "cell_type": "code",
   "execution_count": 7,
   "metadata": {},
   "outputs": [
    {
     "data": {
      "text/html": [
       "<div>\n",
       "<style scoped>\n",
       "    .dataframe tbody tr th:only-of-type {\n",
       "        vertical-align: middle;\n",
       "    }\n",
       "\n",
       "    .dataframe tbody tr th {\n",
       "        vertical-align: top;\n",
       "    }\n",
       "\n",
       "    .dataframe thead th {\n",
       "        text-align: right;\n",
       "    }\n",
       "</style>\n",
       "<table border=\"1\" class=\"dataframe\">\n",
       "  <thead>\n",
       "    <tr style=\"text-align: right;\">\n",
       "      <th></th>\n",
       "      <th>id</th>\n",
       "      <th>object_name</th>\n",
       "      <th>chain</th>\n",
       "      <th>object_type</th>\n",
       "      <th>address</th>\n",
       "      <th>number</th>\n",
       "    </tr>\n",
       "  </thead>\n",
       "  <tbody>\n",
       "    <tr>\n",
       "      <th>114</th>\n",
       "      <td>28613</td>\n",
       "      <td>КОМБИНАТ ПИТАНИЯ МГТУ ИМ.Н.Э.БАУМАНА</td>\n",
       "      <td>нет</td>\n",
       "      <td>закусочная</td>\n",
       "      <td>город Москва, Бригадирский переулок, дом 3-5</td>\n",
       "      <td>216</td>\n",
       "    </tr>\n",
       "    <tr>\n",
       "      <th>115</th>\n",
       "      <td>28614</td>\n",
       "      <td>КОМБИНАТ ПИТАНИЯ МГТУ ИМ.Н.Э.БАУМАНА</td>\n",
       "      <td>нет</td>\n",
       "      <td>буфет</td>\n",
       "      <td>город Москва, Бригадирский переулок, дом 3-5</td>\n",
       "      <td>12</td>\n",
       "    </tr>\n",
       "    <tr>\n",
       "      <th>579</th>\n",
       "      <td>149227</td>\n",
       "      <td>Общественное питание</td>\n",
       "      <td>нет</td>\n",
       "      <td>столовая</td>\n",
       "      <td>город Москва, Павелецкая площадь, дом 1</td>\n",
       "      <td>70</td>\n",
       "    </tr>\n",
       "    <tr>\n",
       "      <th>580</th>\n",
       "      <td>149205</td>\n",
       "      <td>Общественное питание</td>\n",
       "      <td>нет</td>\n",
       "      <td>кафе</td>\n",
       "      <td>город Москва, Павелецкая площадь, дом 1</td>\n",
       "      <td>35</td>\n",
       "    </tr>\n",
       "    <tr>\n",
       "      <th>581</th>\n",
       "      <td>149131</td>\n",
       "      <td>Общественное питание</td>\n",
       "      <td>нет</td>\n",
       "      <td>кафе</td>\n",
       "      <td>город Москва, Павелецкая площадь, дом 1</td>\n",
       "      <td>39</td>\n",
       "    </tr>\n",
       "    <tr>\n",
       "      <th>...</th>\n",
       "      <td>...</td>\n",
       "      <td>...</td>\n",
       "      <td>...</td>\n",
       "      <td>...</td>\n",
       "      <td>...</td>\n",
       "      <td>...</td>\n",
       "    </tr>\n",
       "    <tr>\n",
       "      <th>15217</th>\n",
       "      <td>214146</td>\n",
       "      <td>Макдоналдс</td>\n",
       "      <td>да</td>\n",
       "      <td>предприятие быстрого обслуживания</td>\n",
       "      <td>город Москва, Кировоградская улица, дом 13А</td>\n",
       "      <td>0</td>\n",
       "    </tr>\n",
       "    <tr>\n",
       "      <th>15241</th>\n",
       "      <td>210885</td>\n",
       "      <td>KFC</td>\n",
       "      <td>да</td>\n",
       "      <td>предприятие быстрого обслуживания</td>\n",
       "      <td>город Москва, Манежная площадь, дом 1, строение 2</td>\n",
       "      <td>41</td>\n",
       "    </tr>\n",
       "    <tr>\n",
       "      <th>15253</th>\n",
       "      <td>214872</td>\n",
       "      <td>Чайхона №1</td>\n",
       "      <td>да</td>\n",
       "      <td>кафе</td>\n",
       "      <td>город Москва, Кутузовский проспект, дом 57</td>\n",
       "      <td>0</td>\n",
       "    </tr>\n",
       "    <tr>\n",
       "      <th>15363</th>\n",
       "      <td>209186</td>\n",
       "      <td>Шоколадница</td>\n",
       "      <td>да</td>\n",
       "      <td>кафе</td>\n",
       "      <td>город Москва, улица Земляной Вал, дом 33</td>\n",
       "      <td>20</td>\n",
       "    </tr>\n",
       "    <tr>\n",
       "      <th>15365</th>\n",
       "      <td>222535</td>\n",
       "      <td>Шоколадница</td>\n",
       "      <td>да</td>\n",
       "      <td>кафе</td>\n",
       "      <td>город Москва, Ходынский бульвар, дом 4</td>\n",
       "      <td>10</td>\n",
       "    </tr>\n",
       "  </tbody>\n",
       "</table>\n",
       "<p>207 rows × 6 columns</p>\n",
       "</div>"
      ],
      "text/plain": [
       "           id                           object_name chain  \\\n",
       "114     28613  КОМБИНАТ ПИТАНИЯ МГТУ ИМ.Н.Э.БАУМАНА   нет   \n",
       "115     28614  КОМБИНАТ ПИТАНИЯ МГТУ ИМ.Н.Э.БАУМАНА   нет   \n",
       "579    149227                  Общественное питание   нет   \n",
       "580    149205                  Общественное питание   нет   \n",
       "581    149131                  Общественное питание   нет   \n",
       "...       ...                                   ...   ...   \n",
       "15217  214146                            Макдоналдс    да   \n",
       "15241  210885                                   KFC    да   \n",
       "15253  214872                            Чайхона №1    да   \n",
       "15363  209186                           Шоколадница    да   \n",
       "15365  222535                           Шоколадница    да   \n",
       "\n",
       "                             object_type  \\\n",
       "114                           закусочная   \n",
       "115                                буфет   \n",
       "579                             столовая   \n",
       "580                                 кафе   \n",
       "581                                 кафе   \n",
       "...                                  ...   \n",
       "15217  предприятие быстрого обслуживания   \n",
       "15241  предприятие быстрого обслуживания   \n",
       "15253                               кафе   \n",
       "15363                               кафе   \n",
       "15365                               кафе   \n",
       "\n",
       "                                                 address  number  \n",
       "114         город Москва, Бригадирский переулок, дом 3-5     216  \n",
       "115         город Москва, Бригадирский переулок, дом 3-5      12  \n",
       "579              город Москва, Павелецкая площадь, дом 1      70  \n",
       "580              город Москва, Павелецкая площадь, дом 1      35  \n",
       "581              город Москва, Павелецкая площадь, дом 1      39  \n",
       "...                                                  ...     ...  \n",
       "15217        город Москва, Кировоградская улица, дом 13А       0  \n",
       "15241  город Москва, Манежная площадь, дом 1, строение 2      41  \n",
       "15253         город Москва, Кутузовский проспект, дом 57       0  \n",
       "15363           город Москва, улица Земляной Вал, дом 33      20  \n",
       "15365             город Москва, Ходынский бульвар, дом 4      10  \n",
       "\n",
       "[207 rows x 6 columns]"
      ]
     },
     "execution_count": 7,
     "metadata": {},
     "output_type": "execute_result"
    }
   ],
   "source": [
    "df[df[['object_name', 'address']].duplicated() == True]"
   ]
  },
  {
   "cell_type": "markdown",
   "metadata": {},
   "source": [
    "Это столовые ВУЗов, заведения рядом с ЖД вокзалами или в крупных ТЦ. Они имеют разный id, число посадочных мест и могут относиться к разным типам объекта общественного питания, поэтому можно не принимать их за дубликаты."
   ]
  },
  {
   "cell_type": "markdown",
   "metadata": {},
   "source": [
    "Можно привести колонку chain (принадлежность ресторана к сети) к типу данных bool, но на всякий случай лучше сохранить исходную колонку и на её основе сделать новую."
   ]
  },
  {
   "cell_type": "code",
   "execution_count": 8,
   "metadata": {},
   "outputs": [],
   "source": [
    "df['chain_bool'] = df['chain']"
   ]
  },
  {
   "cell_type": "code",
   "execution_count": 9,
   "metadata": {},
   "outputs": [],
   "source": [
    "df.loc[df['chain_bool'] == 'да', 'chain_bool'] = True"
   ]
  },
  {
   "cell_type": "code",
   "execution_count": 10,
   "metadata": {},
   "outputs": [],
   "source": [
    "df.loc[df['chain_bool'] == 'нет', 'chain_bool'] = False"
   ]
  },
  {
   "cell_type": "code",
   "execution_count": 11,
   "metadata": {},
   "outputs": [],
   "source": [
    "df['chain_bool'] = df['chain_bool'].astype('bool')"
   ]
  },
  {
   "cell_type": "code",
   "execution_count": 12,
   "metadata": {},
   "outputs": [
    {
     "name": "stdout",
     "output_type": "stream",
     "text": [
      "<class 'pandas.core.frame.DataFrame'>\n",
      "RangeIndex: 15366 entries, 0 to 15365\n",
      "Data columns (total 7 columns):\n",
      " #   Column       Non-Null Count  Dtype \n",
      "---  ------       --------------  ----- \n",
      " 0   id           15366 non-null  int64 \n",
      " 1   object_name  15366 non-null  object\n",
      " 2   chain        15366 non-null  object\n",
      " 3   object_type  15366 non-null  object\n",
      " 4   address      15366 non-null  object\n",
      " 5   number       15366 non-null  int64 \n",
      " 6   chain_bool   15366 non-null  bool  \n",
      "dtypes: bool(1), int64(2), object(4)\n",
      "memory usage: 735.4+ KB\n"
     ]
    }
   ],
   "source": [
    "df.info()"
   ]
  },
  {
   "cell_type": "markdown",
   "metadata": {},
   "source": [
    "Можно сократить названия некоторых видов объектов общественного питания."
   ]
  },
  {
   "cell_type": "code",
   "execution_count": 13,
   "metadata": {},
   "outputs": [],
   "source": [
    "df.loc[df['object_type'] == 'предприятие быстрого обслуживания', 'object_type'] = 'fast food'\n",
    "df.loc[df['object_type'] == 'магазин (отдел кулинарии)', 'object_type'] = 'отдел кулинарии'"
   ]
  },
  {
   "cell_type": "markdown",
   "metadata": {},
   "source": [
    "# 2. Анализ данных\n",
    "## 2.1. Соотношение видов объектов общественного питания по количеству\n",
    "\n",
    "Можно использовать функцию `value_counts()` и передать её результат в круговую диаграмму."
   ]
  },
  {
   "cell_type": "code",
   "execution_count": 14,
   "metadata": {},
   "outputs": [],
   "source": [
    "object_type = df['object_type'].value_counts()"
   ]
  },
  {
   "cell_type": "code",
   "execution_count": 15,
   "metadata": {},
   "outputs": [],
   "source": [
    "object_type.columns = ['object_type', 'count']"
   ]
  },
  {
   "cell_type": "code",
   "execution_count": 16,
   "metadata": {},
   "outputs": [
    {
     "data": {
      "text/plain": [
       "кафе               6099\n",
       "столовая           2587\n",
       "ресторан           2285\n",
       "fast food          1923\n",
       "бар                 856\n",
       "буфет               585\n",
       "кафетерий           398\n",
       "закусочная          360\n",
       "отдел кулинарии     273\n",
       "Name: object_type, dtype: int64"
      ]
     },
     "execution_count": 16,
     "metadata": {},
     "output_type": "execute_result"
    }
   ],
   "source": [
    "object_type"
   ]
  },
  {
   "cell_type": "code",
   "execution_count": 17,
   "metadata": {},
   "outputs": [
    {
     "data": {
      "image/png": "[encoded data removed]",
      "text/plain": [
       "<Figure size 648x648 with 1 Axes>"
      ]
     },
     "metadata": {},
     "output_type": "display_data"
    }
   ],
   "source": [
    "sns.set_palette('Paired')\n",
    "object_type.plot(kind = 'pie', x = 'object_type', y = 'count', autopct=\"%.1f%%\", figsize = (9, 9))\n",
    "plt.title('Соотношение видов объектов общественного питания по количеству')\n",
    "plt.ylabel(None)\n",
    "#plt.savefig('1.png', dpi = 1000)\n",
    "plt.show()\n"
   ]
  },
  {
   "cell_type": "markdown",
   "metadata": {},
   "source": [
    "Кафе занимают примерно 40 % от всех заведений общественного питания Москвы.\n",
    "\n",
    "Им уступают столовые, рестораны и предприятия быстрого обслуживания (17, 15 и 12,5 % соответственно).\n",
    "\n",
    "Доля прочих видов объектов по отдельности не превышает 6 %."
   ]
  },
  {
   "cell_type": "markdown",
   "metadata": {},
   "source": [
    "## 2.2. Соотношение сетевых и несетевых заведений по количеству\n",
    "\n",
    "Используется таже последоваельность действий."
   ]
  },
  {
   "cell_type": "code",
   "execution_count": 18,
   "metadata": {},
   "outputs": [],
   "source": [
    "chain = df['chain_bool'].value_counts()"
   ]
  },
  {
   "cell_type": "code",
   "execution_count": 19,
   "metadata": {},
   "outputs": [
    {
     "data": {
      "text/plain": [
       "False    12398\n",
       "True      2968\n",
       "Name: chain_bool, dtype: int64"
      ]
     },
     "execution_count": 19,
     "metadata": {},
     "output_type": "execute_result"
    }
   ],
   "source": [
    "chain"
   ]
  },
  {
   "cell_type": "code",
   "execution_count": 20,
   "metadata": {},
   "outputs": [
    {
     "data": {
      "image/png": "[encoded data removed]",
      "text/plain": [
       "<Figure size 648x648 with 1 Axes>"
      ]
     },
     "metadata": {},
     "output_type": "display_data"
    }
   ],
   "source": [
    "sns.set_palette('Set2')\n",
    "chain.plot(kind = 'pie', y = 'chain_bool', autopct=\"%.1f%%\", figsize = (9, 9))\n",
    "plt.title('Соотношение сетевых и несетевых заведений по количеству')\n",
    "plt.ylabel(None)\n",
    "plt.legend(['Несетевые объекты', 'Сетевые объекты'])\n",
    "#plt.savefig('2.png', dpi = 1000)\n",
    "plt.show()"
   ]
  },
  {
   "cell_type": "markdown",
   "metadata": {},
   "source": [
    "Сетевые объекты составляют примерно 1/5 от всех заведений общественного питания Москвы."
   ]
  },
  {
   "cell_type": "markdown",
   "metadata": {},
   "source": [
    "## 2.3. Объекты общественного питания, для которых характерно сетевое распространение\n",
    "\n",
    "Строится столбчатая диаграмма."
   ]
  },
  {
   "cell_type": "code",
   "execution_count": 21,
   "metadata": {},
   "outputs": [
    {
     "data": {
      "image/png": "[encoded data removed]",
      "text/plain": [
       "<Figure size 1080x504 with 1 Axes>"
      ]
     },
     "metadata": {
      "needs_background": "light"
     },
     "output_type": "display_data"
    }
   ],
   "source": [
    "plt.figure(figsize=(15, 7))\n",
    "sns.countplot(x = 'object_type', data = df, hue = 'chain_bool')\n",
    "plt.title('Распространение сетевых и несетевых объектов общественного питания')\n",
    "plt.xlabel('Вид объекта общественного питания')\n",
    "plt.ylabel('Количество заведений')\n",
    "plt.grid()\n",
    "plt.legend(['Несетевые объекты', 'Сетевые объекты'])\n",
    "sns.despine()\n",
    "#plt.savefig('3.png', dpi = 1000)\n",
    "plt.show()"
   ]
  },
  {
   "cell_type": "markdown",
   "metadata": {},
   "source": [
    "По абсолютным данным можно предположить, что сетевое распространение более характерно для кафе, предприятий быстрого обслуживания и ресторанов.\n",
    "\n",
    "Можно взглянуть на относительный параметр."
   ]
  },
  {
   "cell_type": "code",
   "execution_count": 22,
   "metadata": {},
   "outputs": [],
   "source": [
    "data = df.pivot_table(index = 'object_type', columns = 'chain', values = 'id', aggfunc = 'count').reset_index()"
   ]
  },
  {
   "cell_type": "code",
   "execution_count": 23,
   "metadata": {},
   "outputs": [],
   "source": [
    "data['ratio'] = round(data['да']/data['нет'], 3)"
   ]
  },
  {
   "cell_type": "code",
   "execution_count": 24,
   "metadata": {},
   "outputs": [
    {
     "data": {
      "text/html": [
       "<div>\n",
       "<style scoped>\n",
       "    .dataframe tbody tr th:only-of-type {\n",
       "        vertical-align: middle;\n",
       "    }\n",
       "\n",
       "    .dataframe tbody tr th {\n",
       "        vertical-align: top;\n",
       "    }\n",
       "\n",
       "    .dataframe thead th {\n",
       "        text-align: right;\n",
       "    }\n",
       "</style>\n",
       "<table border=\"1\" class=\"dataframe\">\n",
       "  <thead>\n",
       "    <tr style=\"text-align: right;\">\n",
       "      <th>chain</th>\n",
       "      <th>object_type</th>\n",
       "      <th>да</th>\n",
       "      <th>нет</th>\n",
       "      <th>ratio</th>\n",
       "    </tr>\n",
       "  </thead>\n",
       "  <tbody>\n",
       "    <tr>\n",
       "      <th>0</th>\n",
       "      <td>fast food</td>\n",
       "      <td>791</td>\n",
       "      <td>1132</td>\n",
       "      <td>0.699</td>\n",
       "    </tr>\n",
       "    <tr>\n",
       "      <th>6</th>\n",
       "      <td>отдел кулинарии</td>\n",
       "      <td>78</td>\n",
       "      <td>195</td>\n",
       "      <td>0.400</td>\n",
       "    </tr>\n",
       "    <tr>\n",
       "      <th>7</th>\n",
       "      <td>ресторан</td>\n",
       "      <td>544</td>\n",
       "      <td>1741</td>\n",
       "      <td>0.312</td>\n",
       "    </tr>\n",
       "    <tr>\n",
       "      <th>4</th>\n",
       "      <td>кафе</td>\n",
       "      <td>1396</td>\n",
       "      <td>4703</td>\n",
       "      <td>0.297</td>\n",
       "    </tr>\n",
       "    <tr>\n",
       "      <th>3</th>\n",
       "      <td>закусочная</td>\n",
       "      <td>56</td>\n",
       "      <td>304</td>\n",
       "      <td>0.184</td>\n",
       "    </tr>\n",
       "    <tr>\n",
       "      <th>5</th>\n",
       "      <td>кафетерий</td>\n",
       "      <td>52</td>\n",
       "      <td>346</td>\n",
       "      <td>0.150</td>\n",
       "    </tr>\n",
       "    <tr>\n",
       "      <th>1</th>\n",
       "      <td>бар</td>\n",
       "      <td>37</td>\n",
       "      <td>819</td>\n",
       "      <td>0.045</td>\n",
       "    </tr>\n",
       "    <tr>\n",
       "      <th>2</th>\n",
       "      <td>буфет</td>\n",
       "      <td>11</td>\n",
       "      <td>574</td>\n",
       "      <td>0.019</td>\n",
       "    </tr>\n",
       "    <tr>\n",
       "      <th>8</th>\n",
       "      <td>столовая</td>\n",
       "      <td>3</td>\n",
       "      <td>2584</td>\n",
       "      <td>0.001</td>\n",
       "    </tr>\n",
       "  </tbody>\n",
       "</table>\n",
       "</div>"
      ],
      "text/plain": [
       "chain      object_type    да   нет  ratio\n",
       "0            fast food   791  1132  0.699\n",
       "6      отдел кулинарии    78   195  0.400\n",
       "7             ресторан   544  1741  0.312\n",
       "4                 кафе  1396  4703  0.297\n",
       "3           закусочная    56   304  0.184\n",
       "5            кафетерий    52   346  0.150\n",
       "1                  бар    37   819  0.045\n",
       "2                буфет    11   574  0.019\n",
       "8             столовая     3  2584  0.001"
      ]
     },
     "execution_count": 24,
     "metadata": {},
     "output_type": "execute_result"
    }
   ],
   "source": [
    "data.sort_values(by = 'ratio', ascending = False)"
   ]
  },
  {
   "cell_type": "code",
   "execution_count": 25,
   "metadata": {},
   "outputs": [
    {
     "data": {
      "image/png": "[encoded data removed]",
      "text/plain": [
       "<Figure size 1080x504 with 1 Axes>"
      ]
     },
     "metadata": {
      "needs_background": "light"
     },
     "output_type": "display_data"
    }
   ],
   "source": [
    "plt.figure(figsize=(15, 7))\n",
    "sns.barplot(x = 'object_type', y = 'ratio',\n",
    "            data = data.sort_values(by = 'ratio', ascending = False))\n",
    "plt.title('Отношение сетевых объектов общественного питания к несетевым в зависимости от его вида')\n",
    "plt.xlabel('Вид объекта общественного питания')\n",
    "plt.ylabel('Отношение несетевых объектов к сетевым')\n",
    "plt.grid()\n",
    "#plt.ylim(0, 55)\n",
    "sns.despine()\n",
    "#plt.savefig('4.png', dpi = 1000)\n",
    "plt.show()"
   ]
  },
  {
   "cell_type": "markdown",
   "metadata": {},
   "source": [
    "Для предприятий быстрого питания более характерно сетевое распространение.\n",
    "\n",
    "Следом идут магазины с отделом кулинарии, рестораны, кафе, закусочные и кафетерии.\n",
    "\n",
    "Для баров, буфетов и столовых более характерно несетевое распространение."
   ]
  },
  {
   "cell_type": "markdown",
   "metadata": {},
   "source": [
    "## 2.4. Число посадочных мест в сетевых заведениях\n",
    "Строится гистограмма."
   ]
  },
  {
   "cell_type": "code",
   "execution_count": 26,
   "metadata": {},
   "outputs": [
    {
     "data": {
      "image/png": "[encoded data removed]",
      "text/plain": [
       "<Figure size 1008x504 with 1 Axes>"
      ]
     },
     "metadata": {
      "needs_background": "light"
     },
     "output_type": "display_data"
    }
   ],
   "source": [
    "plt.figure(figsize=(14, 7))\n",
    "sns.distplot(df[df['chain_bool'] == True]['number'], bins = 29, color = 'black', kde = False)\n",
    "plt.xlim(0, 600)\n",
    "plt.title('Распределение числа посадочных мест в сетевых заведениях общественного питания')\n",
    "plt.xlabel('Количетво посадочных мест')\n",
    "plt.ylabel('Число объектов общественного питания')\n",
    "plt.grid()\n",
    "sns.despine()\n",
    "#plt.savefig('5.png', dpi = 1000)\n",
    "plt.show()"
   ]
  },
  {
   "cell_type": "markdown",
   "metadata": {},
   "source": [
    "На гистограмме видно, что в большинстве заведений не более 20-ти посадочных мест.\n",
    "\n",
    "Заведений, где 40-60 посадочных мест тоже довольно много.\n",
    "\n",
    "Сетевых объектов общественного питания, где одновременно могут находиться более 100 человек, мало, а заведения с данным параметром более 160-ти находятся в \"хвосте\" распределения.\n",
    "\n",
    "Можно посчитать среднее, медиану и моду количества посадочных мест, построить диаграмму размаха."
   ]
  },
  {
   "cell_type": "code",
   "execution_count": 27,
   "metadata": {},
   "outputs": [
    {
     "name": "stdout",
     "output_type": "stream",
     "text": [
      "Среднее арифметическое число посадочных мест в сетевых заведениях общественного питания: 53\n"
     ]
    }
   ],
   "source": [
    "print('Среднее арифметическое число посадочных мест в сетевых заведениях общественного питания:',\n",
    "      round(df[df['chain_bool'] == True]['number'].mean()))"
   ]
  },
  {
   "cell_type": "code",
   "execution_count": 28,
   "metadata": {},
   "outputs": [
    {
     "name": "stdout",
     "output_type": "stream",
     "text": [
      "Медиана количества посадочных мест в сетевых заведениях общественного питания: 40\n"
     ]
    }
   ],
   "source": [
    "print('Медиана количества посадочных мест в сетевых заведениях общественного питания:',\n",
    "      int(df[df['chain_bool'] == True]['number'].median()))"
   ]
  },
  {
   "cell_type": "code",
   "execution_count": 29,
   "metadata": {},
   "outputs": [
    {
     "name": "stdout",
     "output_type": "stream",
     "text": [
      "Мода количества посадочных мест в сетевых заведениях общественного питания: 0\n"
     ]
    }
   ],
   "source": [
    "print('Мода количества посадочных мест в сетевых заведениях общественного питания:',\n",
    "      int(df[df['chain_bool'] == True]['number'].mode()))"
   ]
  },
  {
   "cell_type": "code",
   "execution_count": 30,
   "metadata": {},
   "outputs": [
    {
     "data": {
      "image/png": "[encoded data removed]",
      "text/plain": [
       "<Figure size 720x360 with 1 Axes>"
      ]
     },
     "metadata": {
      "needs_background": "light"
     },
     "output_type": "display_data"
    }
   ],
   "source": [
    "plt.figure(figsize=(10, 5))\n",
    "sns.boxplot(df[df['chain_bool'] == True]['number'])\n",
    "plt.title('Диаграмма размаха для количества посадочных мест в сетевых заведениях общественного питания')\n",
    "plt.xlabel('Количетво посадочных мест')\n",
    "sns.despine()\n",
    "#plt.savefig('6.png', dpi = 1000)\n",
    "plt.show()"
   ]
  },
  {
   "cell_type": "markdown",
   "metadata": {},
   "source": [
    "По гистограмме, по значениям среднего, медианы и моды количества посадочных мест и по посроенному \"ящику с усами\" можно сделать вывод, что заведений с небольшим числом посадочных мест много, а с большим количеством посадочных мест мало.\n",
    "\n",
    "Можно исключить заведения, в которых нет посадочных мест, т.е. number имеет значение 0. Графики от этого не сильно изменятся, но среднее, медиана и мода должны стать больше."
   ]
  },
  {
   "cell_type": "code",
   "execution_count": 31,
   "metadata": {},
   "outputs": [
    {
     "name": "stdout",
     "output_type": "stream",
     "text": [
      "Среднее арифметическое число посадочных мест в сетевых заведениях общественного питания: 58\n"
     ]
    }
   ],
   "source": [
    "print('Среднее арифметическое число посадочных мест в сетевых заведениях общественного питания:',\n",
    "      round(df[(df['chain_bool'] == True) & (df['number'] != 0)]['number'].mean()))"
   ]
  },
  {
   "cell_type": "code",
   "execution_count": 32,
   "metadata": {},
   "outputs": [
    {
     "name": "stdout",
     "output_type": "stream",
     "text": [
      "Медиана количества посадочных мест в сетевых заведениях общественного питания: 43\n"
     ]
    }
   ],
   "source": [
    "print('Медиана количества посадочных мест в сетевых заведениях общественного питания:',\n",
    "      int(df[(df['chain_bool'] == True) & (df['number'] != 0)]['number'].median()))"
   ]
  },
  {
   "cell_type": "code",
   "execution_count": 33,
   "metadata": {},
   "outputs": [
    {
     "name": "stdout",
     "output_type": "stream",
     "text": [
      "Мода количества посадочных мест в сетевых заведениях общественного питания: 20\n"
     ]
    }
   ],
   "source": [
    "print('Мода количества посадочных мест в сетевых заведениях общественного питания:',\n",
    "      int(df[(df['chain_bool'] == True) & (df['number'] != 0)]['number'].mode()))"
   ]
  },
  {
   "cell_type": "markdown",
   "metadata": {},
   "source": [
    "В сетевых заведениях общественного питания чаще всего 20 посадочных мест."
   ]
  },
  {
   "cell_type": "markdown",
   "metadata": {},
   "source": [
    "## 2.5. Среднее количество посадочных мест для каждого вида объекта общественного питания\n",
    "\n",
    "Можно построить boxplot для каждого вида объекта."
   ]
  },
  {
   "cell_type": "code",
   "execution_count": 34,
   "metadata": {},
   "outputs": [
    {
     "data": {
      "image/png": "[encoded data removed]",
      "text/plain": [
       "<Figure size 1080x360 with 1 Axes>"
      ]
     },
     "metadata": {
      "needs_background": "light"
     },
     "output_type": "display_data"
    }
   ],
   "source": [
    "plt.figure(figsize=(15, 5))\n",
    "sns.boxplot(x = 'object_type', y = 'number', data = df)\n",
    "plt.ylim(-10, 400)\n",
    "plt.title('Диаграммы размаха числа посадочных мест')\n",
    "plt.xlabel('Вид объекта общественного питания')\n",
    "plt.ylabel('Число посадочных мест')\n",
    "plt.grid()\n",
    "sns.despine()\n",
    "#plt.savefig('7.png', dpi = 1000)\n",
    "plt.show()"
   ]
  },
  {
   "cell_type": "markdown",
   "metadata": {},
   "source": [
    "На диаграммах размаха видно, какое число посадочных мест (медиана и допустимый диапазон) наиболее характерно тому или иному виду заведения.\n",
    "\n",
    "Можно построить столбчатую диаграмму со средним и медианой числа посадочных мест для каждого вида объекта."
   ]
  },
  {
   "cell_type": "code",
   "execution_count": 35,
   "metadata": {},
   "outputs": [],
   "source": [
    "average_number_of_seats = df.groupby('object_type').agg({'number':['mean', 'median']})"
   ]
  },
  {
   "cell_type": "code",
   "execution_count": 36,
   "metadata": {},
   "outputs": [],
   "source": [
    "average_number_of_seats.columns = ['mean_number', 'median_number']"
   ]
  },
  {
   "cell_type": "code",
   "execution_count": 37,
   "metadata": {},
   "outputs": [],
   "source": [
    "average_number_of_seats['mean_number'] = round(average_number_of_seats['mean_number']).astype('int')"
   ]
  },
  {
   "cell_type": "code",
   "execution_count": 38,
   "metadata": {},
   "outputs": [],
   "source": [
    "average_number_of_seats = average_number_of_seats.reset_index()"
   ]
  },
  {
   "cell_type": "code",
   "execution_count": 39,
   "metadata": {},
   "outputs": [],
   "source": [
    "average_number_of_seats = average_number_of_seats.sort_values(by = 'mean_number')"
   ]
  },
  {
   "cell_type": "code",
   "execution_count": 40,
   "metadata": {},
   "outputs": [
    {
     "data": {
      "image/png": "[encoded data removed]",
      "text/plain": [
       "<Figure size 1080x504 with 1 Axes>"
      ]
     },
     "metadata": {
      "needs_background": "light"
     },
     "output_type": "display_data"
    }
   ],
   "source": [
    "plt.figure(figsize=(15, 7))\n",
    "\n",
    "ax = sns.barplot(x = 'object_type',\n",
    "                 y = 'mean_number',\n",
    "                 data = average_number_of_seats,\n",
    "                 color = '#66CDAA',\n",
    "                 label = 'Среднее')\n",
    "\n",
    "sns.barplot(x = 'object_type',\n",
    "            y = 'median_number',\n",
    "            data = average_number_of_seats,\n",
    "            ax = ax,color = '#FFA07A',\n",
    "            label = 'Медиана')\n",
    "\n",
    "plt.title('Среднее количество посадочных мест для каждого вида объекта общественного питания')\n",
    "plt.xlabel('Вид объекта общественного питания')\n",
    "plt.ylabel('Число посадочных мест')\n",
    "plt.grid()\n",
    "plt.legend()\n",
    "sns.despine()\n",
    "#plt.savefig('8.png', dpi = 1000)\n",
    "plt.show()"
   ]
  },
  {
   "cell_type": "markdown",
   "metadata": {},
   "source": [
    "Если рассматривать среднее и медиану, то больше всего посадочных мест в столовых и ресторанах.\n",
    "\n",
    "Следом идут буфеты, бары и кафе. Им уступают предприятия быстрого питания.\n",
    "\n",
    "В отделах кулинарии и закусочных посадочных мест почти нет (медиана равна нулю)."
   ]
  },
  {
   "cell_type": "markdown",
   "metadata": {},
   "source": [
    "## 2.6. Топ-10 улиц по количеству объектов общественного питания"
   ]
  },
  {
   "cell_type": "markdown",
   "metadata": {},
   "source": [
    "Некоторые объекты общественного питания не имеют улицы (например город Зеленоград, корпус 1627).\n",
    "\n",
    "Было создано регулярное выражение, которое находит в адресе объекта:\n",
    "    - улицу, бульвар, проспект, шоссе, переулок, площадь, проезд, набережную, аллею;\n",
    "    - линию, посёлок, микрорайон, километр, поселение, квартал, тупик, просеку, территорию;\n",
    "    - Зеленоград в отдельности.\n",
    "    \n",
    "И ещё одно выражение, без посёлков, микрорайонов, километров, поселений, кварталов, территорий и Зеленограда.\n",
    "\n",
    "И выражение без проспектов и шоссе, т.к. они имеют большую протяжённость и пересекают несколько районов."
   ]
  },
  {
   "cell_type": "code",
   "execution_count": 41,
   "metadata": {},
   "outputs": [],
   "source": [
    "expression_loc = '[А-я ё 0-9 -]*улица.*?[- А-я ё 0-9 ]*|[- А-я ё 0-9 ]*бульвар.*?[- А-я ё 0-9 ]*|[- А-я ё 0-9 ]*проспект.*?[- А-я ё 0-9 ]*|[- А-я ё 0-9 ]*шоссе.*?[- А-я ё 0-9 ]*|[- А-я ё 0-9]*переулок.*?[- А-я ё 0-9 ]*|[- А-я ё 0-9]*площадь.*?[- А-я ё 0-9 ]*|[- А-я ё 0-9]*проезд.*?[- А-я ё 0-9 ]*|[- А-я ё 0-9]*набережная.*?[- А-я ё 0-9 ]*|[- А-я ё 0-9]*аллея.*?[- А-я ё 0-9 ]*|[- А-я ё 0-9]*линия.*?[- А-я 0-9 ]*|[- А-я ё 0-9]*посёлок.*?[- А-я ё 0-9 ]*|[- А-я ё 0-9]*микрорайон.*?[- А-я ё 0-9 ]*|[- А-я ё 0-9]*километр.*?[- А-я ё 0-9 ]*|[-А-я ё 0-9]*город Зеленоград.*?[- А-я ё 0-9 ]*|[- А-я ё 0-9]*поселение.*?[- А-я ё 0-9 ]*|[- А-я ё 0-9]*квартал.*?[- А-я ё 0-9 ]*|[- А-я ё 0-9]*тупик.*?[- А-я ё 0-9 ]*|[- А-я ё 0-9]*просек.*?[- А-я ё 0-9 ]*|[- А-я ё 0-9]*территория.*?[- А-я ё 0-9 ]*'"
   ]
  },
  {
   "cell_type": "code",
   "execution_count": 42,
   "metadata": {},
   "outputs": [],
   "source": [
    "expression_street = '[- А-я ё 0-9 ]*улица.*?[- А-я ё 0-9 ]*|[- А-я ё 0-9 ]*бульвар.*?[- А-я ё 0-9 ]*|[- А-я ё 0-9 ]*проспект.*?[- А-я ё 0-9 ]*|[- А-я ё 0-9 ]*шоссе.*?[- А-я ё 0-9 ]*|[- А-я ё 0-9]*переулок.*?[- А-я ё 0-9 ]*|[- А-я ё 0-9]*площадь.*?[- А-я ё 0-9 ]*|[- А-я ё 0-9]*проезд.*?[- А-я ё 0-9 ]*|[- А-я ё 0-9]*набережная.*?[- А-я ё 0-9 ]*|[- А-я ё 0-9]*аллея.*?[- А-я ё 0-9 ]*|[- А-я ё 0-9]*линия.*?[- А-я ё 0-9 ]*|[- А-я ё 0-9]*тупик.*?[- А-я ё 0-9 ]*|[- А-я ё 0-9]*просек.*?[- А-я ё 0-9 ]*'"
   ]
  },
  {
   "cell_type": "code",
   "execution_count": 43,
   "metadata": {},
   "outputs": [],
   "source": [
    "expression_street2 = '[- А-я ё 0-9 ]*улица.*?[- А-я ё 0-9 ]*|[- А-я ё 0-9 ]*бульвар.*?[- А-я ё 0-9 ]*|[- А-я ё 0-9]*переулок.*?[- А-я ё 0-9 ]*|[- А-я ё 0-9]*площадь.*?[- А-я ё 0-9 ]*|[- А-я ё 0-9]*проезд.*?[- А-я ё 0-9 ]*|[- А-я ё 0-9]*набережная.*?[- А-я ё 0-9 ]*|[- А-я ё 0-9]*аллея.*?[- А-я ё 0-9 ]*|[- А-я ё 0-9]*линия.*?[- А-я ё 0-9 ]*|[- А-я ё 0-9]*тупик.*?[- А-я ё 0-9 ]*|[- А-я ё 0-9]*просек.*?[- А-я ё 0-9 ]*'"
   ]
  },
  {
   "cell_type": "code",
   "execution_count": 44,
   "metadata": {},
   "outputs": [],
   "source": [
    "df['location'] = df['address'].str.findall(expression_loc).str.get(0)\n",
    "df['street'] = df['address'].str.findall(expression_street).str.get(0)\n",
    "df['street2'] = df['address'].str.findall(expression_street2).str.get(0)"
   ]
  },
  {
   "cell_type": "code",
   "execution_count": 45,
   "metadata": {},
   "outputs": [
    {
     "data": {
      "text/html": [
       "<div>\n",
       "<style scoped>\n",
       "    .dataframe tbody tr th:only-of-type {\n",
       "        vertical-align: middle;\n",
       "    }\n",
       "\n",
       "    .dataframe tbody tr th {\n",
       "        vertical-align: top;\n",
       "    }\n",
       "\n",
       "    .dataframe thead th {\n",
       "        text-align: right;\n",
       "    }\n",
       "</style>\n",
       "<table border=\"1\" class=\"dataframe\">\n",
       "  <thead>\n",
       "    <tr style=\"text-align: right;\">\n",
       "      <th></th>\n",
       "      <th>id</th>\n",
       "      <th>object_name</th>\n",
       "      <th>chain</th>\n",
       "      <th>object_type</th>\n",
       "      <th>address</th>\n",
       "      <th>number</th>\n",
       "      <th>chain_bool</th>\n",
       "      <th>location</th>\n",
       "      <th>street</th>\n",
       "      <th>street2</th>\n",
       "    </tr>\n",
       "  </thead>\n",
       "  <tbody>\n",
       "    <tr>\n",
       "      <th>4883</th>\n",
       "      <td>28778</td>\n",
       "      <td>СТОЛОВАЯ ГИМНАЗИИ 1516</td>\n",
       "      <td>нет</td>\n",
       "      <td>столовая</td>\n",
       "      <td>город Москва, Широкая улица, дом 1, корпус 1, ...</td>\n",
       "      <td>300</td>\n",
       "      <td>False</td>\n",
       "      <td>Широкая улица</td>\n",
       "      <td>Широкая улица</td>\n",
       "      <td>Широкая улица</td>\n",
       "    </tr>\n",
       "    <tr>\n",
       "      <th>13963</th>\n",
       "      <td>212737</td>\n",
       "      <td>Pho Viet</td>\n",
       "      <td>нет</td>\n",
       "      <td>fast food</td>\n",
       "      <td>город Москва, улица Маросейка, дом 4/2, строен...</td>\n",
       "      <td>18</td>\n",
       "      <td>False</td>\n",
       "      <td>улица Маросейка</td>\n",
       "      <td>улица Маросейка</td>\n",
       "      <td>улица Маросейка</td>\n",
       "    </tr>\n",
       "    <tr>\n",
       "      <th>3227</th>\n",
       "      <td>83016</td>\n",
       "      <td>Duck Star'S</td>\n",
       "      <td>нет</td>\n",
       "      <td>бар</td>\n",
       "      <td>город Москва, Большая Черкизовская улица, дом 6</td>\n",
       "      <td>95</td>\n",
       "      <td>False</td>\n",
       "      <td>Большая Черкизовская улица</td>\n",
       "      <td>Большая Черкизовская улица</td>\n",
       "      <td>Большая Черкизовская улица</td>\n",
       "    </tr>\n",
       "    <tr>\n",
       "      <th>4657</th>\n",
       "      <td>28853</td>\n",
       "      <td>ЦЕНТР ОБРАЗОВАНИЯ 1858 ШКОЛА 334</td>\n",
       "      <td>нет</td>\n",
       "      <td>столовая</td>\n",
       "      <td>город Москва, 5-й квартал Капотня, дом 29</td>\n",
       "      <td>180</td>\n",
       "      <td>False</td>\n",
       "      <td>5-й квартал Капотня</td>\n",
       "      <td>NaN</td>\n",
       "      <td>NaN</td>\n",
       "    </tr>\n",
       "    <tr>\n",
       "      <th>6078</th>\n",
       "      <td>23908</td>\n",
       "      <td>Кабул</td>\n",
       "      <td>нет</td>\n",
       "      <td>кафе</td>\n",
       "      <td>город Москва, улица Миклухо-Маклая, дом 6</td>\n",
       "      <td>48</td>\n",
       "      <td>False</td>\n",
       "      <td>улица Миклухо-Маклая</td>\n",
       "      <td>улица Миклухо-Маклая</td>\n",
       "      <td>улица Миклухо-Маклая</td>\n",
       "    </tr>\n",
       "  </tbody>\n",
       "</table>\n",
       "</div>"
      ],
      "text/plain": [
       "           id                       object_name chain object_type  \\\n",
       "4883    28778            СТОЛОВАЯ ГИМНАЗИИ 1516   нет    столовая   \n",
       "13963  212737                          Pho Viet   нет   fast food   \n",
       "3227    83016                       Duck Star'S   нет         бар   \n",
       "4657    28853  ЦЕНТР ОБРАЗОВАНИЯ 1858 ШКОЛА 334   нет    столовая   \n",
       "6078    23908                             Кабул   нет        кафе   \n",
       "\n",
       "                                                 address  number  chain_bool  \\\n",
       "4883   город Москва, Широкая улица, дом 1, корпус 1, ...     300       False   \n",
       "13963  город Москва, улица Маросейка, дом 4/2, строен...      18       False   \n",
       "3227     город Москва, Большая Черкизовская улица, дом 6      95       False   \n",
       "4657           город Москва, 5-й квартал Капотня, дом 29     180       False   \n",
       "6078           город Москва, улица Миклухо-Маклая, дом 6      48       False   \n",
       "\n",
       "                          location                       street  \\\n",
       "4883                 Широкая улица                Широкая улица   \n",
       "13963              улица Маросейка              улица Маросейка   \n",
       "3227    Большая Черкизовская улица   Большая Черкизовская улица   \n",
       "4657           5-й квартал Капотня                          NaN   \n",
       "6078          улица Миклухо-Маклая         улица Миклухо-Маклая   \n",
       "\n",
       "                           street2  \n",
       "4883                 Широкая улица  \n",
       "13963              улица Маросейка  \n",
       "3227    Большая Черкизовская улица  \n",
       "4657                           NaN  \n",
       "6078          улица Миклухо-Маклая  "
      ]
     },
     "execution_count": 45,
     "metadata": {},
     "output_type": "execute_result"
    }
   ],
   "source": [
    "df.sample(5)"
   ]
  },
  {
   "cell_type": "code",
   "execution_count": 46,
   "metadata": {},
   "outputs": [
    {
     "name": "stdout",
     "output_type": "stream",
     "text": [
      "<class 'pandas.core.frame.DataFrame'>\n",
      "RangeIndex: 15366 entries, 0 to 15365\n",
      "Data columns (total 10 columns):\n",
      " #   Column       Non-Null Count  Dtype \n",
      "---  ------       --------------  ----- \n",
      " 0   id           15366 non-null  int64 \n",
      " 1   object_name  15366 non-null  object\n",
      " 2   chain        15366 non-null  object\n",
      " 3   object_type  15366 non-null  object\n",
      " 4   address      15366 non-null  object\n",
      " 5   number       15366 non-null  int64 \n",
      " 6   chain_bool   15366 non-null  bool  \n",
      " 7   location     15366 non-null  object\n",
      " 8   street       14970 non-null  object\n",
      " 9   street2      12201 non-null  object\n",
      "dtypes: bool(1), int64(2), object(7)\n",
      "memory usage: 1.1+ MB\n"
     ]
    }
   ],
   "source": [
    "df.info()"
   ]
  },
  {
   "cell_type": "markdown",
   "metadata": {},
   "source": [
    "Если рассматривать результаты первого регулярного выражения, получится следующий топ-10:"
   ]
  },
  {
   "cell_type": "code",
   "execution_count": 47,
   "metadata": {},
   "outputs": [],
   "source": [
    "top = df.groupby('location').agg({'id':'count'}).sort_values(by = 'id', ascending = False).reset_index()"
   ]
  },
  {
   "cell_type": "code",
   "execution_count": 48,
   "metadata": {},
   "outputs": [],
   "source": [
    "top.columns = ['location', 'number_of_objects']"
   ]
  },
  {
   "cell_type": "code",
   "execution_count": 49,
   "metadata": {},
   "outputs": [
    {
     "data": {
      "text/html": [
       "<div>\n",
       "<style scoped>\n",
       "    .dataframe tbody tr th:only-of-type {\n",
       "        vertical-align: middle;\n",
       "    }\n",
       "\n",
       "    .dataframe tbody tr th {\n",
       "        vertical-align: top;\n",
       "    }\n",
       "\n",
       "    .dataframe thead th {\n",
       "        text-align: right;\n",
       "    }\n",
       "</style>\n",
       "<table border=\"1\" class=\"dataframe\">\n",
       "  <thead>\n",
       "    <tr style=\"text-align: right;\">\n",
       "      <th></th>\n",
       "      <th>location</th>\n",
       "      <th>number_of_objects</th>\n",
       "    </tr>\n",
       "  </thead>\n",
       "  <tbody>\n",
       "    <tr>\n",
       "      <th>0</th>\n",
       "      <td>город Зеленоград</td>\n",
       "      <td>232</td>\n",
       "    </tr>\n",
       "    <tr>\n",
       "      <th>1</th>\n",
       "      <td>проспект Мира</td>\n",
       "      <td>204</td>\n",
       "    </tr>\n",
       "    <tr>\n",
       "      <th>2</th>\n",
       "      <td>Профсоюзная улица</td>\n",
       "      <td>182</td>\n",
       "    </tr>\n",
       "    <tr>\n",
       "      <th>3</th>\n",
       "      <td>Ленинградский проспект</td>\n",
       "      <td>171</td>\n",
       "    </tr>\n",
       "    <tr>\n",
       "      <th>4</th>\n",
       "      <td>Пресненская набережная</td>\n",
       "      <td>167</td>\n",
       "    </tr>\n",
       "    <tr>\n",
       "      <th>5</th>\n",
       "      <td>Варшавское шоссе</td>\n",
       "      <td>163</td>\n",
       "    </tr>\n",
       "    <tr>\n",
       "      <th>6</th>\n",
       "      <td>Ленинский проспект</td>\n",
       "      <td>147</td>\n",
       "    </tr>\n",
       "    <tr>\n",
       "      <th>7</th>\n",
       "      <td>поселение Сосенское</td>\n",
       "      <td>138</td>\n",
       "    </tr>\n",
       "    <tr>\n",
       "      <th>8</th>\n",
       "      <td>проспект Вернадского</td>\n",
       "      <td>132</td>\n",
       "    </tr>\n",
       "    <tr>\n",
       "      <th>9</th>\n",
       "      <td>Кутузовский проспект</td>\n",
       "      <td>114</td>\n",
       "    </tr>\n",
       "  </tbody>\n",
       "</table>\n",
       "</div>"
      ],
      "text/plain": [
       "                  location  number_of_objects\n",
       "0         город Зеленоград                232\n",
       "1            проспект Мира                204\n",
       "2        Профсоюзная улица                182\n",
       "3   Ленинградский проспект                171\n",
       "4   Пресненская набережная                167\n",
       "5         Варшавское шоссе                163\n",
       "6       Ленинский проспект                147\n",
       "7      поселение Сосенское                138\n",
       "8     проспект Вернадского                132\n",
       "9     Кутузовский проспект                114"
      ]
     },
     "execution_count": 49,
     "metadata": {},
     "output_type": "execute_result"
    }
   ],
   "source": [
    "top.head(10)"
   ]
  },
  {
   "cell_type": "code",
   "execution_count": 50,
   "metadata": {},
   "outputs": [
    {
     "data": {
      "image/png": "[encoded data removed]",
      "text/plain": [
       "<Figure size 1080x360 with 1 Axes>"
      ]
     },
     "metadata": {
      "needs_background": "light"
     },
     "output_type": "display_data"
    }
   ],
   "source": [
    "plt.figure(figsize=(15, 5))\n",
    "sns.barplot(data = top.head(10), x = 'location', y ='number_of_objects')\n",
    "plt.xticks(rotation=-45)\n",
    "plt.title('Топ-10 локаций по количеству объектов общественного питания')\n",
    "plt.xlabel('Расположение объектов')\n",
    "plt.ylabel('Количество объектов')\n",
    "plt.grid()\n",
    "sns.despine()\n",
    "#plt.savefig('9.png', dpi = 1000, bbox_inches = 'tight')\n",
    "plt.show()"
   ]
  },
  {
   "cell_type": "markdown",
   "metadata": {},
   "source": [
    "Топ-10 для второго регулярного выражения:"
   ]
  },
  {
   "cell_type": "code",
   "execution_count": 51,
   "metadata": {},
   "outputs": [],
   "source": [
    "top2 = df.groupby('street').agg({'id':'count'}).sort_values(by = 'id', ascending = False).reset_index()"
   ]
  },
  {
   "cell_type": "code",
   "execution_count": 52,
   "metadata": {},
   "outputs": [],
   "source": [
    "top2.columns = ['street', 'number_of_objects']"
   ]
  },
  {
   "cell_type": "code",
   "execution_count": 53,
   "metadata": {},
   "outputs": [
    {
     "data": {
      "text/html": [
       "<div>\n",
       "<style scoped>\n",
       "    .dataframe tbody tr th:only-of-type {\n",
       "        vertical-align: middle;\n",
       "    }\n",
       "\n",
       "    .dataframe tbody tr th {\n",
       "        vertical-align: top;\n",
       "    }\n",
       "\n",
       "    .dataframe thead th {\n",
       "        text-align: right;\n",
       "    }\n",
       "</style>\n",
       "<table border=\"1\" class=\"dataframe\">\n",
       "  <thead>\n",
       "    <tr style=\"text-align: right;\">\n",
       "      <th></th>\n",
       "      <th>street</th>\n",
       "      <th>number_of_objects</th>\n",
       "    </tr>\n",
       "  </thead>\n",
       "  <tbody>\n",
       "    <tr>\n",
       "      <th>0</th>\n",
       "      <td>проспект Мира</td>\n",
       "      <td>204</td>\n",
       "    </tr>\n",
       "    <tr>\n",
       "      <th>1</th>\n",
       "      <td>Профсоюзная улица</td>\n",
       "      <td>182</td>\n",
       "    </tr>\n",
       "    <tr>\n",
       "      <th>2</th>\n",
       "      <td>Ленинградский проспект</td>\n",
       "      <td>171</td>\n",
       "    </tr>\n",
       "    <tr>\n",
       "      <th>3</th>\n",
       "      <td>Пресненская набережная</td>\n",
       "      <td>167</td>\n",
       "    </tr>\n",
       "    <tr>\n",
       "      <th>4</th>\n",
       "      <td>Варшавское шоссе</td>\n",
       "      <td>164</td>\n",
       "    </tr>\n",
       "    <tr>\n",
       "      <th>5</th>\n",
       "      <td>Ленинский проспект</td>\n",
       "      <td>147</td>\n",
       "    </tr>\n",
       "    <tr>\n",
       "      <th>6</th>\n",
       "      <td>проспект Вернадского</td>\n",
       "      <td>132</td>\n",
       "    </tr>\n",
       "    <tr>\n",
       "      <th>7</th>\n",
       "      <td>Кутузовский проспект</td>\n",
       "      <td>114</td>\n",
       "    </tr>\n",
       "    <tr>\n",
       "      <th>8</th>\n",
       "      <td>Каширское шоссе</td>\n",
       "      <td>112</td>\n",
       "    </tr>\n",
       "    <tr>\n",
       "      <th>9</th>\n",
       "      <td>Кировоградская улица</td>\n",
       "      <td>110</td>\n",
       "    </tr>\n",
       "  </tbody>\n",
       "</table>\n",
       "</div>"
      ],
      "text/plain": [
       "                    street  number_of_objects\n",
       "0            проспект Мира                204\n",
       "1        Профсоюзная улица                182\n",
       "2   Ленинградский проспект                171\n",
       "3   Пресненская набережная                167\n",
       "4         Варшавское шоссе                164\n",
       "5       Ленинский проспект                147\n",
       "6     проспект Вернадского                132\n",
       "7     Кутузовский проспект                114\n",
       "8          Каширское шоссе                112\n",
       "9     Кировоградская улица                110"
      ]
     },
     "execution_count": 53,
     "metadata": {},
     "output_type": "execute_result"
    }
   ],
   "source": [
    "top2.head(10)"
   ]
  },
  {
   "cell_type": "markdown",
   "metadata": {},
   "source": [
    "Для полученных улиц были найдены соответствующие названия административных округов, т.к. зачастую одна улица пересекает несколько районов.\n",
    "\n",
    "Проспект Мира - Северо-Восточный административный округ\n",
    "\n",
    "Профсоюзная улица - Юго-Западный административный округ\n",
    "\n",
    "Ленинградский проспект - Северный административный округ\n",
    "\n",
    "Пресненская набережная - Центральный административный округ\n",
    "\n",
    "Варшавское шоссе - Южный административный округ\n",
    "\n",
    "Ленинский проспект - Юго-Западный административный округ\n",
    "\n",
    "Проспект Вернадского - Западный административный округ\n",
    "\n",
    "Кутузовский проспект - Западный административный округ\n",
    "\n",
    "Каширское шоссе - Южный административный округ\n",
    "\n",
    "Кировоградская улица - Южный административный округ"
   ]
  },
  {
   "cell_type": "code",
   "execution_count": 54,
   "metadata": {},
   "outputs": [
    {
     "data": {
      "image/png": "[encoded data removed]",
      "text/plain": [
       "<Figure size 1080x360 with 1 Axes>"
      ]
     },
     "metadata": {
      "needs_background": "light"
     },
     "output_type": "display_data"
    }
   ],
   "source": [
    "plt.figure(figsize=(15, 5))\n",
    "sns.barplot(data = top2.head(10), x = 'street', y ='number_of_objects')\n",
    "plt.xticks(rotation=-45)\n",
    "plt.title('Топ-10 улиц по количеству объектов общественного питания')\n",
    "plt.xlabel('Улица')\n",
    "plt.ylabel('Количество объектов')\n",
    "plt.grid()\n",
    "sns.despine()\n",
    "#plt.savefig('10.png', dpi = 1000, bbox_inches = 'tight')\n",
    "plt.show()"
   ]
  },
  {
   "cell_type": "markdown",
   "metadata": {},
   "source": [
    "Топ-10 для третьего регулярного выражения (без проспектов и шоссе):"
   ]
  },
  {
   "cell_type": "code",
   "execution_count": 55,
   "metadata": {},
   "outputs": [],
   "source": [
    "top3 = df.groupby('street2').agg({'id':'count'}).sort_values(by = 'id', ascending = False).reset_index()"
   ]
  },
  {
   "cell_type": "code",
   "execution_count": 56,
   "metadata": {},
   "outputs": [],
   "source": [
    "top3.columns = ['street', 'number_of_objects']"
   ]
  },
  {
   "cell_type": "code",
   "execution_count": 57,
   "metadata": {},
   "outputs": [
    {
     "data": {
      "text/html": [
       "<div>\n",
       "<style scoped>\n",
       "    .dataframe tbody tr th:only-of-type {\n",
       "        vertical-align: middle;\n",
       "    }\n",
       "\n",
       "    .dataframe tbody tr th {\n",
       "        vertical-align: top;\n",
       "    }\n",
       "\n",
       "    .dataframe thead th {\n",
       "        text-align: right;\n",
       "    }\n",
       "</style>\n",
       "<table border=\"1\" class=\"dataframe\">\n",
       "  <thead>\n",
       "    <tr style=\"text-align: right;\">\n",
       "      <th></th>\n",
       "      <th>street</th>\n",
       "      <th>number_of_objects</th>\n",
       "    </tr>\n",
       "  </thead>\n",
       "  <tbody>\n",
       "    <tr>\n",
       "      <th>0</th>\n",
       "      <td>Профсоюзная улица</td>\n",
       "      <td>182</td>\n",
       "    </tr>\n",
       "    <tr>\n",
       "      <th>1</th>\n",
       "      <td>Пресненская набережная</td>\n",
       "      <td>167</td>\n",
       "    </tr>\n",
       "    <tr>\n",
       "      <th>2</th>\n",
       "      <td>Кировоградская улица</td>\n",
       "      <td>110</td>\n",
       "    </tr>\n",
       "    <tr>\n",
       "      <th>3</th>\n",
       "      <td>Ходынский бульвар</td>\n",
       "      <td>102</td>\n",
       "    </tr>\n",
       "    <tr>\n",
       "      <th>4</th>\n",
       "      <td>улица Новый Арбат</td>\n",
       "      <td>92</td>\n",
       "    </tr>\n",
       "    <tr>\n",
       "      <th>5</th>\n",
       "      <td>улица Сущёвский Вал</td>\n",
       "      <td>86</td>\n",
       "    </tr>\n",
       "    <tr>\n",
       "      <th>6</th>\n",
       "      <td>улица Ленинская Слобода</td>\n",
       "      <td>85</td>\n",
       "    </tr>\n",
       "    <tr>\n",
       "      <th>7</th>\n",
       "      <td>Пятницкая улица</td>\n",
       "      <td>80</td>\n",
       "    </tr>\n",
       "    <tr>\n",
       "      <th>8</th>\n",
       "      <td>улица Земляной Вал</td>\n",
       "      <td>79</td>\n",
       "    </tr>\n",
       "    <tr>\n",
       "      <th>9</th>\n",
       "      <td>улица Вавилова</td>\n",
       "      <td>78</td>\n",
       "    </tr>\n",
       "  </tbody>\n",
       "</table>\n",
       "</div>"
      ],
      "text/plain": [
       "                     street  number_of_objects\n",
       "0         Профсоюзная улица                182\n",
       "1    Пресненская набережная                167\n",
       "2      Кировоградская улица                110\n",
       "3         Ходынский бульвар                102\n",
       "4         улица Новый Арбат                 92\n",
       "5       улица Сущёвский Вал                 86\n",
       "6   улица Ленинская Слобода                 85\n",
       "7           Пятницкая улица                 80\n",
       "8        улица Земляной Вал                 79\n",
       "9            улица Вавилова                 78"
      ]
     },
     "execution_count": 57,
     "metadata": {},
     "output_type": "execute_result"
    }
   ],
   "source": [
    "top3.head(10)"
   ]
  },
  {
   "cell_type": "markdown",
   "metadata": {},
   "source": [
    "В данном случае были найдены районы, через которые проходят эти улицы.\n",
    "\n",
    "Профсоюзная улица - несколько районов (около 6-ти)\n",
    "\n",
    "Пресненская набережная - Пресненский район\n",
    "\n",
    "Кировоградская улица - исторический район Чертаново (т.е. Северное, Центральное и Южное Чертаново)\n",
    "\n",
    "Ходынский бульвар - Хорошёвский район\n",
    "\n",
    "Улица Новый Арбат - район Арбат\n",
    "\n",
    "Улица Сущёвский Вал - район Марьина Роща\n",
    "\n",
    "Улица Ленинская Слобода - Даниловский район\n",
    "\n",
    "Пятницкая улица\t- район Замоскворечье\n",
    "\n",
    "Улица Земляной Вал -Таганский и Басманный районы\n",
    "\n",
    "Улица Вавилова - Академический и Ломоносовский районы\n",
    "\n",
    "Большая часть районов расположена внутри Третьего Транспортного Кольца (либо ТТК проходит через район)."
   ]
  },
  {
   "cell_type": "code",
   "execution_count": 58,
   "metadata": {},
   "outputs": [
    {
     "data": {
      "image/png": "[encoded data removed]",
      "text/plain": [
       "<Figure size 1152x288 with 1 Axes>"
      ]
     },
     "metadata": {
      "needs_background": "light"
     },
     "output_type": "display_data"
    }
   ],
   "source": [
    "plt.figure(figsize=(16, 4))\n",
    "sns.barplot(data = top3.head(10), x = 'street', y ='number_of_objects')\n",
    "plt.xticks(rotation=-45)\n",
    "plt.title('Топ-10 улиц по количеству объектов общественного питания')\n",
    "plt.xlabel('Улица')\n",
    "plt.ylabel('Количество объектов')\n",
    "plt.grid()\n",
    "sns.despine()\n",
    "#plt.savefig('11.png', dpi = 1000, bbox_inches = 'tight')\n",
    "plt.show()"
   ]
  },
  {
   "cell_type": "markdown",
   "metadata": {},
   "source": [
    "## 2.7. Улицы с одним объектом общественного питания"
   ]
  },
  {
   "cell_type": "code",
   "execution_count": 59,
   "metadata": {},
   "outputs": [],
   "source": [
    "anti_top = df.groupby('location').agg({'id':'count'}).sort_values(by = 'id').reset_index()"
   ]
  },
  {
   "cell_type": "code",
   "execution_count": 60,
   "metadata": {},
   "outputs": [],
   "source": [
    "anti_top.columns = ['location', 'number_of_objects']"
   ]
  },
  {
   "cell_type": "code",
   "execution_count": 61,
   "metadata": {},
   "outputs": [],
   "source": [
    "bad_object = anti_top[anti_top['number_of_objects']==1]"
   ]
  },
  {
   "cell_type": "code",
   "execution_count": 62,
   "metadata": {},
   "outputs": [
    {
     "data": {
      "text/html": [
       "<div>\n",
       "<style scoped>\n",
       "    .dataframe tbody tr th:only-of-type {\n",
       "        vertical-align: middle;\n",
       "    }\n",
       "\n",
       "    .dataframe tbody tr th {\n",
       "        vertical-align: top;\n",
       "    }\n",
       "\n",
       "    .dataframe thead th {\n",
       "        text-align: right;\n",
       "    }\n",
       "</style>\n",
       "<table border=\"1\" class=\"dataframe\">\n",
       "  <thead>\n",
       "    <tr style=\"text-align: right;\">\n",
       "      <th></th>\n",
       "      <th>location</th>\n",
       "      <th>number_of_objects</th>\n",
       "    </tr>\n",
       "  </thead>\n",
       "  <tbody>\n",
       "    <tr>\n",
       "      <th>0</th>\n",
       "      <td>улица Сергея Макеева</td>\n",
       "      <td>1</td>\n",
       "    </tr>\n",
       "    <tr>\n",
       "      <th>1</th>\n",
       "      <td>Верхняя улица</td>\n",
       "      <td>1</td>\n",
       "    </tr>\n",
       "    <tr>\n",
       "      <th>2</th>\n",
       "      <td>улица Екатерины Будановой</td>\n",
       "      <td>1</td>\n",
       "    </tr>\n",
       "    <tr>\n",
       "      <th>3</th>\n",
       "      <td>Мишина улица</td>\n",
       "      <td>1</td>\n",
       "    </tr>\n",
       "    <tr>\n",
       "      <th>4</th>\n",
       "      <td>Михневский проезд</td>\n",
       "      <td>1</td>\n",
       "    </tr>\n",
       "    <tr>\n",
       "      <th>...</th>\n",
       "      <td>...</td>\n",
       "      <td>...</td>\n",
       "    </tr>\n",
       "    <tr>\n",
       "      <th>584</th>\n",
       "      <td>1-й Монетчиковский переулок</td>\n",
       "      <td>1</td>\n",
       "    </tr>\n",
       "    <tr>\n",
       "      <th>585</th>\n",
       "      <td>Садовая-Сухаревская улица</td>\n",
       "      <td>1</td>\n",
       "    </tr>\n",
       "    <tr>\n",
       "      <th>586</th>\n",
       "      <td>Садовнический проезд</td>\n",
       "      <td>1</td>\n",
       "    </tr>\n",
       "    <tr>\n",
       "      <th>587</th>\n",
       "      <td>Печорская улица</td>\n",
       "      <td>1</td>\n",
       "    </tr>\n",
       "    <tr>\n",
       "      <th>588</th>\n",
       "      <td>Норильская улица</td>\n",
       "      <td>1</td>\n",
       "    </tr>\n",
       "  </tbody>\n",
       "</table>\n",
       "<p>589 rows × 2 columns</p>\n",
       "</div>"
      ],
      "text/plain": [
       "                         location  number_of_objects\n",
       "0            улица Сергея Макеева                  1\n",
       "1                   Верхняя улица                  1\n",
       "2       улица Екатерины Будановой                  1\n",
       "3                    Мишина улица                  1\n",
       "4               Михневский проезд                  1\n",
       "..                            ...                ...\n",
       "584   1-й Монетчиковский переулок                  1\n",
       "585     Садовая-Сухаревская улица                  1\n",
       "586          Садовнический проезд                  1\n",
       "587               Печорская улица                  1\n",
       "588              Норильская улица                  1\n",
       "\n",
       "[589 rows x 2 columns]"
      ]
     },
     "execution_count": 62,
     "metadata": {},
     "output_type": "execute_result"
    }
   ],
   "source": [
    "bad_object"
   ]
  },
  {
   "cell_type": "markdown",
   "metadata": {},
   "source": [
    "Найдено 589 улиц с одним объектом общественного питания. Чтобы найти соответствующие им районы, придётся воспользоваться данными из внешних источников."
   ]
  },
  {
   "cell_type": "code",
   "execution_count": 63,
   "metadata": {},
   "outputs": [
    {
     "data": {
      "text/html": [
       "<div>\n",
       "<style scoped>\n",
       "    .dataframe tbody tr th:only-of-type {\n",
       "        vertical-align: middle;\n",
       "    }\n",
       "\n",
       "    .dataframe tbody tr th {\n",
       "        vertical-align: top;\n",
       "    }\n",
       "\n",
       "    .dataframe thead th {\n",
       "        text-align: right;\n",
       "    }\n",
       "</style>\n",
       "<table border=\"1\" class=\"dataframe\">\n",
       "  <thead>\n",
       "    <tr style=\"text-align: right;\">\n",
       "      <th></th>\n",
       "      <th>streetname</th>\n",
       "      <th>areaid</th>\n",
       "      <th>okrug</th>\n",
       "      <th>area</th>\n",
       "    </tr>\n",
       "  </thead>\n",
       "  <tbody>\n",
       "    <tr>\n",
       "      <th>268</th>\n",
       "      <td>3-й Сыромятнический переулок</td>\n",
       "      <td>18</td>\n",
       "      <td>ЦАО</td>\n",
       "      <td>Таганский район</td>\n",
       "    </tr>\n",
       "    <tr>\n",
       "      <th>3084</th>\n",
       "      <td>Ереванская улица</td>\n",
       "      <td>107</td>\n",
       "      <td>ЮАО</td>\n",
       "      <td>Район Царицыно</td>\n",
       "    </tr>\n",
       "    <tr>\n",
       "      <th>248</th>\n",
       "      <td>Малый Рогожский переулок</td>\n",
       "      <td>18</td>\n",
       "      <td>ЦАО</td>\n",
       "      <td>Таганский район</td>\n",
       "    </tr>\n",
       "    <tr>\n",
       "      <th>1826</th>\n",
       "      <td>Авиационный переулок</td>\n",
       "      <td>54</td>\n",
       "      <td>САО</td>\n",
       "      <td>Район Аэропорт</td>\n",
       "    </tr>\n",
       "    <tr>\n",
       "      <th>1822</th>\n",
       "      <td>Проезд N 3</td>\n",
       "      <td>53</td>\n",
       "      <td>Зеленоград</td>\n",
       "      <td>Панфиловский район</td>\n",
       "    </tr>\n",
       "  </tbody>\n",
       "</table>\n",
       "</div>"
      ],
      "text/plain": [
       "                        streetname  areaid       okrug                area\n",
       "268   3-й Сыромятнический переулок      18         ЦАО     Таганский район\n",
       "3084              Ереванская улица     107         ЮАО      Район Царицыно\n",
       "248       Малый Рогожский переулок      18         ЦАО     Таганский район\n",
       "1826          Авиационный переулок      54         САО      Район Аэропорт\n",
       "1822                    Проезд N 3      53  Зеленоград  Панфиловский район"
      ]
     },
     "execution_count": 63,
     "metadata": {},
     "output_type": "execute_result"
    }
   ],
   "source": [
    "from io import BytesIO\n",
    "import requests\n",
    "\n",
    "spreadsheet_id = '1WWy-6qS9aleYDQEJ636_yjNnux_c_1pFhbc1oZrNoa8'\n",
    "file_name = 'https://docs.google.com/spreadsheets/d/{}/export?format=csv'.format(spreadsheet_id)\n",
    "r = requests.get(file_name)\n",
    "outer_data = pd.read_csv(BytesIO(r.content))\n",
    "outer_data.sample(5)"
   ]
  },
  {
   "cell_type": "markdown",
   "metadata": {},
   "source": [
    "Некоторые названия улиц, полученные с помощью регулярного выражения, имеют в начале пробел. Это нужно исправить."
   ]
  },
  {
   "cell_type": "code",
   "execution_count": 64,
   "metadata": {},
   "outputs": [],
   "source": [
    "bad_object['location'] = bad_object['location'].apply(lambda x: x.strip())"
   ]
  },
  {
   "cell_type": "markdown",
   "metadata": {},
   "source": [
    "Теперь можно объединить таблицы."
   ]
  },
  {
   "cell_type": "code",
   "execution_count": 65,
   "metadata": {},
   "outputs": [],
   "source": [
    "bad_object_merge = bad_object.merge(outer_data[['streetname', 'area']], left_on = 'location', right_on = 'streetname', how = 'left')"
   ]
  },
  {
   "cell_type": "code",
   "execution_count": 66,
   "metadata": {},
   "outputs": [
    {
     "data": {
      "text/html": [
       "<div>\n",
       "<style scoped>\n",
       "    .dataframe tbody tr th:only-of-type {\n",
       "        vertical-align: middle;\n",
       "    }\n",
       "\n",
       "    .dataframe tbody tr th {\n",
       "        vertical-align: top;\n",
       "    }\n",
       "\n",
       "    .dataframe thead th {\n",
       "        text-align: right;\n",
       "    }\n",
       "</style>\n",
       "<table border=\"1\" class=\"dataframe\">\n",
       "  <thead>\n",
       "    <tr style=\"text-align: right;\">\n",
       "      <th></th>\n",
       "      <th>location</th>\n",
       "      <th>number_of_objects</th>\n",
       "      <th>streetname</th>\n",
       "      <th>area</th>\n",
       "    </tr>\n",
       "  </thead>\n",
       "  <tbody>\n",
       "    <tr>\n",
       "      <th>48</th>\n",
       "      <td>Госпитальный переулок</td>\n",
       "      <td>1</td>\n",
       "      <td>Госпитальный переулок</td>\n",
       "      <td>Басманный район</td>\n",
       "    </tr>\n",
       "    <tr>\n",
       "      <th>394</th>\n",
       "      <td>поселение Михайлово-Ярцевское</td>\n",
       "      <td>1</td>\n",
       "      <td>NaN</td>\n",
       "      <td>NaN</td>\n",
       "    </tr>\n",
       "    <tr>\n",
       "      <th>261</th>\n",
       "      <td>улица Богданова</td>\n",
       "      <td>1</td>\n",
       "      <td>улица Богданова</td>\n",
       "      <td>Район Солнцево</td>\n",
       "    </tr>\n",
       "    <tr>\n",
       "      <th>140</th>\n",
       "      <td>улица Клочкова</td>\n",
       "      <td>1</td>\n",
       "      <td>улица Клочкова</td>\n",
       "      <td>Район Фили-Давыдково</td>\n",
       "    </tr>\n",
       "    <tr>\n",
       "      <th>275</th>\n",
       "      <td>Тетеринский переулок</td>\n",
       "      <td>1</td>\n",
       "      <td>Тетеринский переулок</td>\n",
       "      <td>Таганский район</td>\n",
       "    </tr>\n",
       "  </tbody>\n",
       "</table>\n",
       "</div>"
      ],
      "text/plain": [
       "                          location  number_of_objects             streetname  \\\n",
       "48           Госпитальный переулок                  1  Госпитальный переулок   \n",
       "394  поселение Михайлово-Ярцевское                  1                    NaN   \n",
       "261                улица Богданова                  1        улица Богданова   \n",
       "140                 улица Клочкова                  1         улица Клочкова   \n",
       "275           Тетеринский переулок                  1   Тетеринский переулок   \n",
       "\n",
       "                     area  \n",
       "48        Басманный район  \n",
       "394                   NaN  \n",
       "261        Район Солнцево  \n",
       "140  Район Фили-Давыдково  \n",
       "275       Таганский район  "
      ]
     },
     "execution_count": 66,
     "metadata": {},
     "output_type": "execute_result"
    }
   ],
   "source": [
    "bad_object_merge.sample(5)"
   ]
  },
  {
   "cell_type": "code",
   "execution_count": 67,
   "metadata": {},
   "outputs": [
    {
     "name": "stdout",
     "output_type": "stream",
     "text": [
      "<class 'pandas.core.frame.DataFrame'>\n",
      "Int64Index: 676 entries, 0 to 675\n",
      "Data columns (total 4 columns):\n",
      " #   Column             Non-Null Count  Dtype \n",
      "---  ------             --------------  ----- \n",
      " 0   location           676 non-null    object\n",
      " 1   number_of_objects  676 non-null    int64 \n",
      " 2   streetname         641 non-null    object\n",
      " 3   area               641 non-null    object\n",
      "dtypes: int64(1), object(3)\n",
      "memory usage: 26.4+ KB\n"
     ]
    }
   ],
   "source": [
    "bad_object_merge.info()"
   ]
  },
  {
   "cell_type": "markdown",
   "metadata": {},
   "source": [
    "Во внешнем источнике не хватает 35-ти улиц.\n",
    "\n",
    "Можно сформировать топ-10 районов, где больше всего улиц с 1 объектом общественного питания."
   ]
  },
  {
   "cell_type": "code",
   "execution_count": 68,
   "metadata": {},
   "outputs": [],
   "source": [
    "bad_area = bad_object_merge.groupby('area').agg({'streetname':'count'}).sort_values(by = 'streetname', ascending = False).reset_index()"
   ]
  },
  {
   "cell_type": "code",
   "execution_count": 69,
   "metadata": {},
   "outputs": [
    {
     "data": {
      "text/html": [
       "<div>\n",
       "<style scoped>\n",
       "    .dataframe tbody tr th:only-of-type {\n",
       "        vertical-align: middle;\n",
       "    }\n",
       "\n",
       "    .dataframe tbody tr th {\n",
       "        vertical-align: top;\n",
       "    }\n",
       "\n",
       "    .dataframe thead th {\n",
       "        text-align: right;\n",
       "    }\n",
       "</style>\n",
       "<table border=\"1\" class=\"dataframe\">\n",
       "  <thead>\n",
       "    <tr style=\"text-align: right;\">\n",
       "      <th></th>\n",
       "      <th>area</th>\n",
       "      <th>streetname</th>\n",
       "    </tr>\n",
       "  </thead>\n",
       "  <tbody>\n",
       "    <tr>\n",
       "      <th>0</th>\n",
       "      <td>Таганский район</td>\n",
       "      <td>32</td>\n",
       "    </tr>\n",
       "    <tr>\n",
       "      <th>1</th>\n",
       "      <td>Район Хамовники</td>\n",
       "      <td>28</td>\n",
       "    </tr>\n",
       "    <tr>\n",
       "      <th>2</th>\n",
       "      <td>Басманный район</td>\n",
       "      <td>26</td>\n",
       "    </tr>\n",
       "    <tr>\n",
       "      <th>3</th>\n",
       "      <td>Тверской район</td>\n",
       "      <td>25</td>\n",
       "    </tr>\n",
       "    <tr>\n",
       "      <th>4</th>\n",
       "      <td>Пресненский район</td>\n",
       "      <td>24</td>\n",
       "    </tr>\n",
       "    <tr>\n",
       "      <th>5</th>\n",
       "      <td>Район Арбат</td>\n",
       "      <td>19</td>\n",
       "    </tr>\n",
       "    <tr>\n",
       "      <th>6</th>\n",
       "      <td>Мещанский район</td>\n",
       "      <td>18</td>\n",
       "    </tr>\n",
       "    <tr>\n",
       "      <th>7</th>\n",
       "      <td>Район Марьина роща</td>\n",
       "      <td>18</td>\n",
       "    </tr>\n",
       "    <tr>\n",
       "      <th>8</th>\n",
       "      <td>Район Сокольники</td>\n",
       "      <td>15</td>\n",
       "    </tr>\n",
       "    <tr>\n",
       "      <th>9</th>\n",
       "      <td>Район Замоскворечье</td>\n",
       "      <td>15</td>\n",
       "    </tr>\n",
       "  </tbody>\n",
       "</table>\n",
       "</div>"
      ],
      "text/plain": [
       "                  area  streetname\n",
       "0      Таганский район          32\n",
       "1      Район Хамовники          28\n",
       "2      Басманный район          26\n",
       "3       Тверской район          25\n",
       "4    Пресненский район          24\n",
       "5          Район Арбат          19\n",
       "6      Мещанский район          18\n",
       "7   Район Марьина роща          18\n",
       "8     Район Сокольники          15\n",
       "9  Район Замоскворечье          15"
      ]
     },
     "execution_count": 69,
     "metadata": {},
     "output_type": "execute_result"
    }
   ],
   "source": [
    "bad_area.head(10)"
   ]
  },
  {
   "cell_type": "code",
   "execution_count": 70,
   "metadata": {},
   "outputs": [
    {
     "data": {
      "image/png": "[encoded data removed]",
      "text/plain": [
       "<Figure size 864x288 with 1 Axes>"
      ]
     },
     "metadata": {
      "needs_background": "light"
     },
     "output_type": "display_data"
    }
   ],
   "source": [
    "plt.figure(figsize=(12, 4))\n",
    "sns.barplot(data = bad_area.head(10), x = 'area', y ='streetname')\n",
    "plt.xticks(rotation=-45)\n",
    "plt.title('Топ-10 районов, где больше всего улиц с одной точкой общественного питания')\n",
    "plt.xlabel('Район города Москва')\n",
    "plt.ylabel('Количество улиц')\n",
    "plt.grid()\n",
    "sns.despine()\n",
    "#plt.savefig('12.png', dpi = 1000, bbox_inches = 'tight')\n",
    "plt.show()"
   ]
  },
  {
   "cell_type": "markdown",
   "metadata": {},
   "source": [
    "Часть из перечисленных районов были в списке, составленном по улицам из top3.\n",
    "\n",
    "Можно изучить конец списка улиц с одной точкой общественного питания."
   ]
  },
  {
   "cell_type": "code",
   "execution_count": 71,
   "metadata": {},
   "outputs": [
    {
     "data": {
      "text/html": [
       "<div>\n",
       "<style scoped>\n",
       "    .dataframe tbody tr th:only-of-type {\n",
       "        vertical-align: middle;\n",
       "    }\n",
       "\n",
       "    .dataframe tbody tr th {\n",
       "        vertical-align: top;\n",
       "    }\n",
       "\n",
       "    .dataframe thead th {\n",
       "        text-align: right;\n",
       "    }\n",
       "</style>\n",
       "<table border=\"1\" class=\"dataframe\">\n",
       "  <thead>\n",
       "    <tr style=\"text-align: right;\">\n",
       "      <th></th>\n",
       "      <th>area</th>\n",
       "      <th>streetname</th>\n",
       "    </tr>\n",
       "  </thead>\n",
       "  <tbody>\n",
       "    <tr>\n",
       "      <th>99</th>\n",
       "      <td>Район Москворечье-Сабурово</td>\n",
       "      <td>1</td>\n",
       "    </tr>\n",
       "    <tr>\n",
       "      <th>100</th>\n",
       "      <td>Район Метрогородок</td>\n",
       "      <td>1</td>\n",
       "    </tr>\n",
       "    <tr>\n",
       "      <th>101</th>\n",
       "      <td>Район Матушкино-Савелки</td>\n",
       "      <td>1</td>\n",
       "    </tr>\n",
       "    <tr>\n",
       "      <th>102</th>\n",
       "      <td>Район Левобережный</td>\n",
       "      <td>1</td>\n",
       "    </tr>\n",
       "    <tr>\n",
       "      <th>103</th>\n",
       "      <td>Район Ивановское</td>\n",
       "      <td>1</td>\n",
       "    </tr>\n",
       "    <tr>\n",
       "      <th>104</th>\n",
       "      <td>Район Бирюлево Западное</td>\n",
       "      <td>1</td>\n",
       "    </tr>\n",
       "    <tr>\n",
       "      <th>105</th>\n",
       "      <td>Район Бибирево</td>\n",
       "      <td>1</td>\n",
       "    </tr>\n",
       "    <tr>\n",
       "      <th>106</th>\n",
       "      <td>Молжаниновский район</td>\n",
       "      <td>1</td>\n",
       "    </tr>\n",
       "    <tr>\n",
       "      <th>107</th>\n",
       "      <td>Ломоносовский район</td>\n",
       "      <td>1</td>\n",
       "    </tr>\n",
       "    <tr>\n",
       "      <th>108</th>\n",
       "      <td>Район Марфино</td>\n",
       "      <td>1</td>\n",
       "    </tr>\n",
       "  </tbody>\n",
       "</table>\n",
       "</div>"
      ],
      "text/plain": [
       "                           area  streetname\n",
       "99   Район Москворечье-Сабурово           1\n",
       "100          Район Метрогородок           1\n",
       "101     Район Матушкино-Савелки           1\n",
       "102          Район Левобережный           1\n",
       "103            Район Ивановское           1\n",
       "104     Район Бирюлево Западное           1\n",
       "105              Район Бибирево           1\n",
       "106        Молжаниновский район           1\n",
       "107         Ломоносовский район           1\n",
       "108               Район Марфино           1"
      ]
     },
     "execution_count": 71,
     "metadata": {},
     "output_type": "execute_result"
    }
   ],
   "source": [
    "bad_area.tail(10)"
   ]
  },
  {
   "cell_type": "markdown",
   "metadata": {},
   "source": [
    "Несколько районов из списка примыкают ко МКАДу, несколько внутри МКАД, один находится за его пределами, один район рядом с Зеленоградом."
   ]
  },
  {
   "cell_type": "markdown",
   "metadata": {},
   "source": [
    "## 2.8. Распределение количества посадочных мест для улиц с большим количеством объектов общественного питания"
   ]
  },
  {
   "cell_type": "markdown",
   "metadata": {},
   "source": [
    "Можно объеденить плученные топ-10, но т.к. населённые пункты \"город Зеленоград\" и \"поселение Сосенское\" не являются улицами, будут использованы только top2 и top3."
   ]
  },
  {
   "cell_type": "code",
   "execution_count": 72,
   "metadata": {},
   "outputs": [],
   "source": [
    "top_all = top2.head(10)"
   ]
  },
  {
   "cell_type": "code",
   "execution_count": 73,
   "metadata": {},
   "outputs": [],
   "source": [
    "top_all = top_all.append(top3.head(10))"
   ]
  },
  {
   "cell_type": "code",
   "execution_count": 74,
   "metadata": {},
   "outputs": [],
   "source": [
    "top_all = top_all.drop_duplicates().reset_index(drop = True)"
   ]
  },
  {
   "cell_type": "code",
   "execution_count": 75,
   "metadata": {},
   "outputs": [
    {
     "data": {
      "text/html": [
       "<div>\n",
       "<style scoped>\n",
       "    .dataframe tbody tr th:only-of-type {\n",
       "        vertical-align: middle;\n",
       "    }\n",
       "\n",
       "    .dataframe tbody tr th {\n",
       "        vertical-align: top;\n",
       "    }\n",
       "\n",
       "    .dataframe thead th {\n",
       "        text-align: right;\n",
       "    }\n",
       "</style>\n",
       "<table border=\"1\" class=\"dataframe\">\n",
       "  <thead>\n",
       "    <tr style=\"text-align: right;\">\n",
       "      <th></th>\n",
       "      <th>street</th>\n",
       "      <th>number_of_objects</th>\n",
       "    </tr>\n",
       "  </thead>\n",
       "  <tbody>\n",
       "    <tr>\n",
       "      <th>0</th>\n",
       "      <td>проспект Мира</td>\n",
       "      <td>204</td>\n",
       "    </tr>\n",
       "    <tr>\n",
       "      <th>1</th>\n",
       "      <td>Профсоюзная улица</td>\n",
       "      <td>182</td>\n",
       "    </tr>\n",
       "    <tr>\n",
       "      <th>2</th>\n",
       "      <td>Ленинградский проспект</td>\n",
       "      <td>171</td>\n",
       "    </tr>\n",
       "    <tr>\n",
       "      <th>3</th>\n",
       "      <td>Пресненская набережная</td>\n",
       "      <td>167</td>\n",
       "    </tr>\n",
       "    <tr>\n",
       "      <th>4</th>\n",
       "      <td>Варшавское шоссе</td>\n",
       "      <td>164</td>\n",
       "    </tr>\n",
       "    <tr>\n",
       "      <th>5</th>\n",
       "      <td>Ленинский проспект</td>\n",
       "      <td>147</td>\n",
       "    </tr>\n",
       "    <tr>\n",
       "      <th>6</th>\n",
       "      <td>проспект Вернадского</td>\n",
       "      <td>132</td>\n",
       "    </tr>\n",
       "    <tr>\n",
       "      <th>7</th>\n",
       "      <td>Кутузовский проспект</td>\n",
       "      <td>114</td>\n",
       "    </tr>\n",
       "    <tr>\n",
       "      <th>8</th>\n",
       "      <td>Каширское шоссе</td>\n",
       "      <td>112</td>\n",
       "    </tr>\n",
       "    <tr>\n",
       "      <th>9</th>\n",
       "      <td>Кировоградская улица</td>\n",
       "      <td>110</td>\n",
       "    </tr>\n",
       "    <tr>\n",
       "      <th>10</th>\n",
       "      <td>Ходынский бульвар</td>\n",
       "      <td>102</td>\n",
       "    </tr>\n",
       "    <tr>\n",
       "      <th>11</th>\n",
       "      <td>улица Новый Арбат</td>\n",
       "      <td>92</td>\n",
       "    </tr>\n",
       "    <tr>\n",
       "      <th>12</th>\n",
       "      <td>улица Сущёвский Вал</td>\n",
       "      <td>86</td>\n",
       "    </tr>\n",
       "    <tr>\n",
       "      <th>13</th>\n",
       "      <td>улица Ленинская Слобода</td>\n",
       "      <td>85</td>\n",
       "    </tr>\n",
       "    <tr>\n",
       "      <th>14</th>\n",
       "      <td>Пятницкая улица</td>\n",
       "      <td>80</td>\n",
       "    </tr>\n",
       "    <tr>\n",
       "      <th>15</th>\n",
       "      <td>улица Земляной Вал</td>\n",
       "      <td>79</td>\n",
       "    </tr>\n",
       "    <tr>\n",
       "      <th>16</th>\n",
       "      <td>улица Вавилова</td>\n",
       "      <td>78</td>\n",
       "    </tr>\n",
       "  </tbody>\n",
       "</table>\n",
       "</div>"
      ],
      "text/plain": [
       "                      street  number_of_objects\n",
       "0              проспект Мира                204\n",
       "1          Профсоюзная улица                182\n",
       "2     Ленинградский проспект                171\n",
       "3     Пресненская набережная                167\n",
       "4           Варшавское шоссе                164\n",
       "5         Ленинский проспект                147\n",
       "6       проспект Вернадского                132\n",
       "7       Кутузовский проспект                114\n",
       "8            Каширское шоссе                112\n",
       "9       Кировоградская улица                110\n",
       "10         Ходынский бульвар                102\n",
       "11         улица Новый Арбат                 92\n",
       "12       улица Сущёвский Вал                 86\n",
       "13   улица Ленинская Слобода                 85\n",
       "14           Пятницкая улица                 80\n",
       "15        улица Земляной Вал                 79\n",
       "16            улица Вавилова                 78"
      ]
     },
     "execution_count": 75,
     "metadata": {},
     "output_type": "execute_result"
    }
   ],
   "source": [
    "top_all"
   ]
  },
  {
   "cell_type": "markdown",
   "metadata": {},
   "source": [
    "Из таблицы df нужно получить данные о заведениях, расположенных на улицах из полученного списка."
   ]
  },
  {
   "cell_type": "code",
   "execution_count": 76,
   "metadata": {},
   "outputs": [],
   "source": [
    "df_top_all = df[df['street'].isin(top_all['street'])]"
   ]
  },
  {
   "cell_type": "code",
   "execution_count": 77,
   "metadata": {},
   "outputs": [
    {
     "data": {
      "text/html": [
       "<div>\n",
       "<style scoped>\n",
       "    .dataframe tbody tr th:only-of-type {\n",
       "        vertical-align: middle;\n",
       "    }\n",
       "\n",
       "    .dataframe tbody tr th {\n",
       "        vertical-align: top;\n",
       "    }\n",
       "\n",
       "    .dataframe thead th {\n",
       "        text-align: right;\n",
       "    }\n",
       "</style>\n",
       "<table border=\"1\" class=\"dataframe\">\n",
       "  <thead>\n",
       "    <tr style=\"text-align: right;\">\n",
       "      <th></th>\n",
       "      <th>id</th>\n",
       "      <th>object_name</th>\n",
       "      <th>chain</th>\n",
       "      <th>object_type</th>\n",
       "      <th>address</th>\n",
       "      <th>number</th>\n",
       "      <th>chain_bool</th>\n",
       "      <th>location</th>\n",
       "      <th>street</th>\n",
       "      <th>street2</th>\n",
       "    </tr>\n",
       "  </thead>\n",
       "  <tbody>\n",
       "    <tr>\n",
       "      <th>14860</th>\n",
       "      <td>215128</td>\n",
       "      <td>Bar BQ</td>\n",
       "      <td>нет</td>\n",
       "      <td>ресторан</td>\n",
       "      <td>город Москва, Кутузовский проспект, дом 57</td>\n",
       "      <td>45</td>\n",
       "      <td>False</td>\n",
       "      <td>Кутузовский проспект</td>\n",
       "      <td>Кутузовский проспект</td>\n",
       "      <td>NaN</td>\n",
       "    </tr>\n",
       "    <tr>\n",
       "      <th>2086</th>\n",
       "      <td>140776</td>\n",
       "      <td>Ресторан «Марукамэ»</td>\n",
       "      <td>нет</td>\n",
       "      <td>ресторан</td>\n",
       "      <td>город Москва, Пятницкая улица, дом 29</td>\n",
       "      <td>55</td>\n",
       "      <td>False</td>\n",
       "      <td>Пятницкая улица</td>\n",
       "      <td>Пятницкая улица</td>\n",
       "      <td>Пятницкая улица</td>\n",
       "    </tr>\n",
       "    <tr>\n",
       "      <th>13140</th>\n",
       "      <td>194582</td>\n",
       "      <td>Точка продажи готовой еды Милти</td>\n",
       "      <td>да</td>\n",
       "      <td>отдел кулинарии</td>\n",
       "      <td>город Москва, Варшавское шоссе, дом 160</td>\n",
       "      <td>0</td>\n",
       "      <td>True</td>\n",
       "      <td>Варшавское шоссе</td>\n",
       "      <td>Варшавское шоссе</td>\n",
       "      <td>NaN</td>\n",
       "    </tr>\n",
       "    <tr>\n",
       "      <th>6433</th>\n",
       "      <td>142433</td>\n",
       "      <td>Сам пришел</td>\n",
       "      <td>нет</td>\n",
       "      <td>ресторан</td>\n",
       "      <td>город Москва, проспект Вернадского, дом 76А</td>\n",
       "      <td>49</td>\n",
       "      <td>False</td>\n",
       "      <td>проспект Вернадского</td>\n",
       "      <td>проспект Вернадского</td>\n",
       "      <td>NaN</td>\n",
       "    </tr>\n",
       "    <tr>\n",
       "      <th>14354</th>\n",
       "      <td>221852</td>\n",
       "      <td>Grano</td>\n",
       "      <td>нет</td>\n",
       "      <td>кафе</td>\n",
       "      <td>город Москва, проспект Вернадского, дом 6</td>\n",
       "      <td>40</td>\n",
       "      <td>False</td>\n",
       "      <td>проспект Вернадского</td>\n",
       "      <td>проспект Вернадского</td>\n",
       "      <td>NaN</td>\n",
       "    </tr>\n",
       "  </tbody>\n",
       "</table>\n",
       "</div>"
      ],
      "text/plain": [
       "           id                      object_name chain      object_type  \\\n",
       "14860  215128                           Bar BQ   нет         ресторан   \n",
       "2086   140776              Ресторан «Марукамэ»   нет         ресторан   \n",
       "13140  194582  Точка продажи готовой еды Милти    да  отдел кулинарии   \n",
       "6433   142433                       Сам пришел   нет         ресторан   \n",
       "14354  221852                            Grano   нет             кафе   \n",
       "\n",
       "                                           address  number  chain_bool  \\\n",
       "14860   город Москва, Кутузовский проспект, дом 57      45       False   \n",
       "2086         город Москва, Пятницкая улица, дом 29      55       False   \n",
       "13140      город Москва, Варшавское шоссе, дом 160       0        True   \n",
       "6433   город Москва, проспект Вернадского, дом 76А      49       False   \n",
       "14354    город Москва, проспект Вернадского, дом 6      40       False   \n",
       "\n",
       "                    location                 street           street2  \n",
       "14860   Кутузовский проспект   Кутузовский проспект               NaN  \n",
       "2086         Пятницкая улица        Пятницкая улица   Пятницкая улица  \n",
       "13140       Варшавское шоссе       Варшавское шоссе               NaN  \n",
       "6433    проспект Вернадского   проспект Вернадского               NaN  \n",
       "14354   проспект Вернадского   проспект Вернадского               NaN  "
      ]
     },
     "execution_count": 77,
     "metadata": {},
     "output_type": "execute_result"
    }
   ],
   "source": [
    "df_top_all.sample(5)"
   ]
  },
  {
   "cell_type": "markdown",
   "metadata": {},
   "source": [
    "Выполняется группировка по улице и опеределяется среднее и медиана посадочных мест."
   ]
  },
  {
   "cell_type": "code",
   "execution_count": 78,
   "metadata": {},
   "outputs": [],
   "source": [
    "group_df_top_all = df_top_all.groupby('street').agg({'number':['mean', 'median']}).reset_index()"
   ]
  },
  {
   "cell_type": "code",
   "execution_count": 79,
   "metadata": {},
   "outputs": [],
   "source": [
    "group_df_top_all.columns = ['street', 'number_mean', 'number_median']"
   ]
  },
  {
   "cell_type": "code",
   "execution_count": 80,
   "metadata": {},
   "outputs": [],
   "source": [
    "group_df_top_all['number_mean'] = round(group_df_top_all['number_mean']).astype('int')\n",
    "group_df_top_all['number_median'] = group_df_top_all['number_median'].astype('int')"
   ]
  },
  {
   "cell_type": "code",
   "execution_count": 81,
   "metadata": {},
   "outputs": [
    {
     "data": {
      "text/html": [
       "<div>\n",
       "<style scoped>\n",
       "    .dataframe tbody tr th:only-of-type {\n",
       "        vertical-align: middle;\n",
       "    }\n",
       "\n",
       "    .dataframe tbody tr th {\n",
       "        vertical-align: top;\n",
       "    }\n",
       "\n",
       "    .dataframe thead th {\n",
       "        text-align: right;\n",
       "    }\n",
       "</style>\n",
       "<table border=\"1\" class=\"dataframe\">\n",
       "  <thead>\n",
       "    <tr style=\"text-align: right;\">\n",
       "      <th></th>\n",
       "      <th>street</th>\n",
       "      <th>number_mean</th>\n",
       "      <th>number_median</th>\n",
       "    </tr>\n",
       "  </thead>\n",
       "  <tbody>\n",
       "    <tr>\n",
       "      <th>9</th>\n",
       "      <td>Ходынский бульвар</td>\n",
       "      <td>19</td>\n",
       "      <td>10</td>\n",
       "    </tr>\n",
       "    <tr>\n",
       "      <th>16</th>\n",
       "      <td>улица Сущёвский Вал</td>\n",
       "      <td>31</td>\n",
       "      <td>12</td>\n",
       "    </tr>\n",
       "    <tr>\n",
       "      <th>5</th>\n",
       "      <td>Ленинский проспект</td>\n",
       "      <td>63</td>\n",
       "      <td>45</td>\n",
       "    </tr>\n",
       "    <tr>\n",
       "      <th>6</th>\n",
       "      <td>Пресненская набережная</td>\n",
       "      <td>46</td>\n",
       "      <td>30</td>\n",
       "    </tr>\n",
       "    <tr>\n",
       "      <th>14</th>\n",
       "      <td>улица Ленинская Слобода</td>\n",
       "      <td>31</td>\n",
       "      <td>10</td>\n",
       "    </tr>\n",
       "  </tbody>\n",
       "</table>\n",
       "</div>"
      ],
      "text/plain": [
       "                      street  number_mean  number_median\n",
       "9          Ходынский бульвар           19             10\n",
       "16       улица Сущёвский Вал           31             12\n",
       "5         Ленинский проспект           63             45\n",
       "6     Пресненская набережная           46             30\n",
       "14   улица Ленинская Слобода           31             10"
      ]
     },
     "execution_count": 81,
     "metadata": {},
     "output_type": "execute_result"
    }
   ],
   "source": [
    "group_df_top_all.sample(5)"
   ]
  },
  {
   "cell_type": "markdown",
   "metadata": {},
   "source": [
    "Можно объединить таблицы top_all и group_df_top_all."
   ]
  },
  {
   "cell_type": "code",
   "execution_count": 82,
   "metadata": {},
   "outputs": [],
   "source": [
    "top_all = top_all.merge(group_df_top_all, on = 'street')"
   ]
  },
  {
   "cell_type": "code",
   "execution_count": 83,
   "metadata": {},
   "outputs": [
    {
     "data": {
      "text/html": [
       "<div>\n",
       "<style scoped>\n",
       "    .dataframe tbody tr th:only-of-type {\n",
       "        vertical-align: middle;\n",
       "    }\n",
       "\n",
       "    .dataframe tbody tr th {\n",
       "        vertical-align: top;\n",
       "    }\n",
       "\n",
       "    .dataframe thead th {\n",
       "        text-align: right;\n",
       "    }\n",
       "</style>\n",
       "<table border=\"1\" class=\"dataframe\">\n",
       "  <thead>\n",
       "    <tr style=\"text-align: right;\">\n",
       "      <th></th>\n",
       "      <th>street</th>\n",
       "      <th>number_of_objects</th>\n",
       "      <th>number_mean</th>\n",
       "      <th>number_median</th>\n",
       "    </tr>\n",
       "  </thead>\n",
       "  <tbody>\n",
       "    <tr>\n",
       "      <th>0</th>\n",
       "      <td>проспект Мира</td>\n",
       "      <td>204</td>\n",
       "      <td>63</td>\n",
       "      <td>46</td>\n",
       "    </tr>\n",
       "    <tr>\n",
       "      <th>1</th>\n",
       "      <td>Профсоюзная улица</td>\n",
       "      <td>182</td>\n",
       "      <td>46</td>\n",
       "      <td>24</td>\n",
       "    </tr>\n",
       "    <tr>\n",
       "      <th>2</th>\n",
       "      <td>Ленинградский проспект</td>\n",
       "      <td>171</td>\n",
       "      <td>53</td>\n",
       "      <td>40</td>\n",
       "    </tr>\n",
       "    <tr>\n",
       "      <th>3</th>\n",
       "      <td>Пресненская набережная</td>\n",
       "      <td>167</td>\n",
       "      <td>46</td>\n",
       "      <td>30</td>\n",
       "    </tr>\n",
       "    <tr>\n",
       "      <th>4</th>\n",
       "      <td>Варшавское шоссе</td>\n",
       "      <td>164</td>\n",
       "      <td>52</td>\n",
       "      <td>30</td>\n",
       "    </tr>\n",
       "    <tr>\n",
       "      <th>5</th>\n",
       "      <td>Ленинский проспект</td>\n",
       "      <td>147</td>\n",
       "      <td>63</td>\n",
       "      <td>45</td>\n",
       "    </tr>\n",
       "    <tr>\n",
       "      <th>6</th>\n",
       "      <td>проспект Вернадского</td>\n",
       "      <td>132</td>\n",
       "      <td>67</td>\n",
       "      <td>40</td>\n",
       "    </tr>\n",
       "    <tr>\n",
       "      <th>7</th>\n",
       "      <td>Кутузовский проспект</td>\n",
       "      <td>114</td>\n",
       "      <td>85</td>\n",
       "      <td>40</td>\n",
       "    </tr>\n",
       "    <tr>\n",
       "      <th>8</th>\n",
       "      <td>Каширское шоссе</td>\n",
       "      <td>112</td>\n",
       "      <td>55</td>\n",
       "      <td>25</td>\n",
       "    </tr>\n",
       "    <tr>\n",
       "      <th>9</th>\n",
       "      <td>Кировоградская улица</td>\n",
       "      <td>110</td>\n",
       "      <td>60</td>\n",
       "      <td>30</td>\n",
       "    </tr>\n",
       "    <tr>\n",
       "      <th>10</th>\n",
       "      <td>Ходынский бульвар</td>\n",
       "      <td>102</td>\n",
       "      <td>19</td>\n",
       "      <td>10</td>\n",
       "    </tr>\n",
       "    <tr>\n",
       "      <th>11</th>\n",
       "      <td>улица Новый Арбат</td>\n",
       "      <td>92</td>\n",
       "      <td>54</td>\n",
       "      <td>36</td>\n",
       "    </tr>\n",
       "    <tr>\n",
       "      <th>12</th>\n",
       "      <td>улица Сущёвский Вал</td>\n",
       "      <td>86</td>\n",
       "      <td>31</td>\n",
       "      <td>12</td>\n",
       "    </tr>\n",
       "    <tr>\n",
       "      <th>13</th>\n",
       "      <td>улица Ленинская Слобода</td>\n",
       "      <td>85</td>\n",
       "      <td>31</td>\n",
       "      <td>10</td>\n",
       "    </tr>\n",
       "    <tr>\n",
       "      <th>14</th>\n",
       "      <td>Пятницкая улица</td>\n",
       "      <td>80</td>\n",
       "      <td>65</td>\n",
       "      <td>46</td>\n",
       "    </tr>\n",
       "    <tr>\n",
       "      <th>15</th>\n",
       "      <td>улица Земляной Вал</td>\n",
       "      <td>79</td>\n",
       "      <td>48</td>\n",
       "      <td>35</td>\n",
       "    </tr>\n",
       "    <tr>\n",
       "      <th>16</th>\n",
       "      <td>улица Вавилова</td>\n",
       "      <td>78</td>\n",
       "      <td>35</td>\n",
       "      <td>9</td>\n",
       "    </tr>\n",
       "  </tbody>\n",
       "</table>\n",
       "</div>"
      ],
      "text/plain": [
       "                      street  number_of_objects  number_mean  number_median\n",
       "0              проспект Мира                204           63             46\n",
       "1          Профсоюзная улица                182           46             24\n",
       "2     Ленинградский проспект                171           53             40\n",
       "3     Пресненская набережная                167           46             30\n",
       "4           Варшавское шоссе                164           52             30\n",
       "5         Ленинский проспект                147           63             45\n",
       "6       проспект Вернадского                132           67             40\n",
       "7       Кутузовский проспект                114           85             40\n",
       "8            Каширское шоссе                112           55             25\n",
       "9       Кировоградская улица                110           60             30\n",
       "10         Ходынский бульвар                102           19             10\n",
       "11         улица Новый Арбат                 92           54             36\n",
       "12       улица Сущёвский Вал                 86           31             12\n",
       "13   улица Ленинская Слобода                 85           31             10\n",
       "14           Пятницкая улица                 80           65             46\n",
       "15        улица Земляной Вал                 79           48             35\n",
       "16            улица Вавилова                 78           35              9"
      ]
     },
     "execution_count": 83,
     "metadata": {},
     "output_type": "execute_result"
    }
   ],
   "source": [
    "top_all"
   ]
  },
  {
   "cell_type": "markdown",
   "metadata": {},
   "source": [
    "Построение столбчатой диаграммы."
   ]
  },
  {
   "cell_type": "code",
   "execution_count": 84,
   "metadata": {},
   "outputs": [
    {
     "data": {
      "image/png": "[encoded data removed]",
      "text/plain": [
       "<Figure size 1080x504 with 1 Axes>"
      ]
     },
     "metadata": {
      "needs_background": "light"
     },
     "output_type": "display_data"
    }
   ],
   "source": [
    "plt.figure(figsize=(15, 7))\n",
    "\n",
    "ax = sns.barplot(x = 'street',\n",
    "                 y = 'number_mean',\n",
    "                 data = top_all,\n",
    "                 color = '#66CDAA',\n",
    "                 label = 'Среднее')\n",
    "\n",
    "sns.barplot(x = 'street',\n",
    "            y = 'number_median',\n",
    "            data = top_all,\n",
    "            ax = ax,color = '#FFA07A',\n",
    "            label = 'Медиана')\n",
    "\n",
    "plt.xticks(rotation=-45)\n",
    "plt.title('Распределение количества посадочных мест для улиц с большим количеством объектов общественного питания')\n",
    "plt.xlabel('Улица')\n",
    "plt.ylabel('Среднее число посадочных мест')\n",
    "plt.grid()\n",
    "plt.legend()\n",
    "sns.despine()\n",
    "#plt.savefig('13.png', dpi = 1000, bbox_inches = 'tight')\n",
    "plt.show()"
   ]
  },
  {
   "cell_type": "markdown",
   "metadata": {},
   "source": [
    "По полученной диаграмме трудно сделать какой-либо вывод.\n",
    "\n",
    "Так, на Кутузовском проспекте 114 объектов общественного питания и в среднем 85\tпосадочных мест (медиана 40).\n",
    "\n",
    "А на Ходынском бульваре\t102 объекта со средним числом посадочных мест 19 (медиана 10).\n",
    "\n",
    "Можно посмотреть коэффициенты корреляции Пирсона."
   ]
  },
  {
   "cell_type": "code",
   "execution_count": 85,
   "metadata": {},
   "outputs": [
    {
     "data": {
      "text/html": [
       "<div>\n",
       "<style scoped>\n",
       "    .dataframe tbody tr th:only-of-type {\n",
       "        vertical-align: middle;\n",
       "    }\n",
       "\n",
       "    .dataframe tbody tr th {\n",
       "        vertical-align: top;\n",
       "    }\n",
       "\n",
       "    .dataframe thead th {\n",
       "        text-align: right;\n",
       "    }\n",
       "</style>\n",
       "<table border=\"1\" class=\"dataframe\">\n",
       "  <thead>\n",
       "    <tr style=\"text-align: right;\">\n",
       "      <th></th>\n",
       "      <th>number_of_objects</th>\n",
       "      <th>number_mean</th>\n",
       "      <th>number_median</th>\n",
       "    </tr>\n",
       "  </thead>\n",
       "  <tbody>\n",
       "    <tr>\n",
       "      <th>number_of_objects</th>\n",
       "      <td>1.0</td>\n",
       "      <td>0.272541</td>\n",
       "      <td>0.412255</td>\n",
       "    </tr>\n",
       "  </tbody>\n",
       "</table>\n",
       "</div>"
      ],
      "text/plain": [
       "                   number_of_objects  number_mean  number_median\n",
       "number_of_objects                1.0     0.272541       0.412255"
      ]
     },
     "execution_count": 85,
     "metadata": {},
     "output_type": "execute_result"
    }
   ],
   "source": [
    "top_all.corr()[:1]"
   ]
  },
  {
   "cell_type": "markdown",
   "metadata": {},
   "source": [
    "Видно, что зависимость между числом объектов и числом посадочных мест положительная и слабая."
   ]
  },
  {
   "cell_type": "code",
   "execution_count": 86,
   "metadata": {},
   "outputs": [
    {
     "data": {
      "image/png": "[encoded data removed]",
      "text/plain": [
       "<Figure size 432x432 with 3 Axes>"
      ]
     },
     "metadata": {
      "needs_background": "light"
     },
     "output_type": "display_data"
    }
   ],
   "source": [
    "sns.jointplot(x = 'number_of_objects', y = 'number_mean', data = top_all, kind = 'reg')\n",
    "plt.title('Зависимсть числа посадочных мест от числа объектов общественного питания (для улиц с с наибольшим числом объектов)',\n",
    "         pad = 75)\n",
    "plt.xlabel('Число заведений общественного питания')\n",
    "plt.ylabel('Среднее число посадочных мест')\n",
    "#plt.savefig('14.png', dpi = 1000, bbox_inches = 'tight')\n",
    "plt.show()"
   ]
  },
  {
   "cell_type": "markdown",
   "metadata": {},
   "source": [
    "На графике зависимости показано 17 точек.\n",
    "\n",
    "Можно построить такой же график для всех улиц (исключив заведения без посадочных мест) и определить коэффициент корреляции."
   ]
  },
  {
   "cell_type": "code",
   "execution_count": 87,
   "metadata": {},
   "outputs": [],
   "source": [
    " all_group_data = df[df['number']!=0].groupby('street').agg({'number':['mean', 'median'], 'id':'count'}).reset_index()"
   ]
  },
  {
   "cell_type": "code",
   "execution_count": 88,
   "metadata": {},
   "outputs": [],
   "source": [
    "all_group_data.columns = ['street', 'number_mean', 'number_median', 'object_count']"
   ]
  },
  {
   "cell_type": "code",
   "execution_count": 89,
   "metadata": {},
   "outputs": [],
   "source": [
    "all_group_data['number_mean'] = round(all_group_data['number_mean']).astype('int')\n",
    "all_group_data['number_median'] = all_group_data['number_median'].astype('int')"
   ]
  },
  {
   "cell_type": "code",
   "execution_count": 90,
   "metadata": {},
   "outputs": [
    {
     "data": {
      "text/html": [
       "<div>\n",
       "<style scoped>\n",
       "    .dataframe tbody tr th:only-of-type {\n",
       "        vertical-align: middle;\n",
       "    }\n",
       "\n",
       "    .dataframe tbody tr th {\n",
       "        vertical-align: top;\n",
       "    }\n",
       "\n",
       "    .dataframe thead th {\n",
       "        text-align: right;\n",
       "    }\n",
       "</style>\n",
       "<table border=\"1\" class=\"dataframe\">\n",
       "  <thead>\n",
       "    <tr style=\"text-align: right;\">\n",
       "      <th></th>\n",
       "      <th>street</th>\n",
       "      <th>number_mean</th>\n",
       "      <th>number_median</th>\n",
       "      <th>object_count</th>\n",
       "    </tr>\n",
       "  </thead>\n",
       "  <tbody>\n",
       "    <tr>\n",
       "      <th>1839</th>\n",
       "      <td>улица Хамовнический Вал</td>\n",
       "      <td>66</td>\n",
       "      <td>60</td>\n",
       "      <td>7</td>\n",
       "    </tr>\n",
       "    <tr>\n",
       "      <th>45</th>\n",
       "      <td>1-й переулок Тружеников</td>\n",
       "      <td>60</td>\n",
       "      <td>50</td>\n",
       "      <td>4</td>\n",
       "    </tr>\n",
       "    <tr>\n",
       "      <th>275</th>\n",
       "      <td>Басовская улица</td>\n",
       "      <td>24</td>\n",
       "      <td>24</td>\n",
       "      <td>1</td>\n",
       "    </tr>\n",
       "    <tr>\n",
       "      <th>1633</th>\n",
       "      <td>улица Липовый Парк</td>\n",
       "      <td>15</td>\n",
       "      <td>14</td>\n",
       "      <td>20</td>\n",
       "    </tr>\n",
       "    <tr>\n",
       "      <th>1670</th>\n",
       "      <td>улица Марьинский Парк</td>\n",
       "      <td>107</td>\n",
       "      <td>15</td>\n",
       "      <td>3</td>\n",
       "    </tr>\n",
       "  </tbody>\n",
       "</table>\n",
       "</div>"
      ],
      "text/plain": [
       "                        street  number_mean  number_median  object_count\n",
       "1839   улица Хамовнический Вал           66             60             7\n",
       "45     1-й переулок Тружеников           60             50             4\n",
       "275            Басовская улица           24             24             1\n",
       "1633        улица Липовый Парк           15             14            20\n",
       "1670     улица Марьинский Парк          107             15             3"
      ]
     },
     "execution_count": 90,
     "metadata": {},
     "output_type": "execute_result"
    }
   ],
   "source": [
    "all_group_data.sample(5)"
   ]
  },
  {
   "cell_type": "markdown",
   "metadata": {},
   "source": [
    "Коэффициенты корреляции:"
   ]
  },
  {
   "cell_type": "code",
   "execution_count": 91,
   "metadata": {},
   "outputs": [
    {
     "data": {
      "text/html": [
       "<div>\n",
       "<style scoped>\n",
       "    .dataframe tbody tr th:only-of-type {\n",
       "        vertical-align: middle;\n",
       "    }\n",
       "\n",
       "    .dataframe tbody tr th {\n",
       "        vertical-align: top;\n",
       "    }\n",
       "\n",
       "    .dataframe thead th {\n",
       "        text-align: right;\n",
       "    }\n",
       "</style>\n",
       "<table border=\"1\" class=\"dataframe\">\n",
       "  <thead>\n",
       "    <tr style=\"text-align: right;\">\n",
       "      <th></th>\n",
       "      <th>number_mean</th>\n",
       "      <th>number_median</th>\n",
       "      <th>object_count</th>\n",
       "    </tr>\n",
       "  </thead>\n",
       "  <tbody>\n",
       "    <tr>\n",
       "      <th>object_count</th>\n",
       "      <td>-0.088424</td>\n",
       "      <td>-0.154166</td>\n",
       "      <td>1.0</td>\n",
       "    </tr>\n",
       "  </tbody>\n",
       "</table>\n",
       "</div>"
      ],
      "text/plain": [
       "              number_mean  number_median  object_count\n",
       "object_count    -0.088424      -0.154166           1.0"
      ]
     },
     "execution_count": 91,
     "metadata": {},
     "output_type": "execute_result"
    }
   ],
   "source": [
    "all_group_data.corr()[2:3]"
   ]
  },
  {
   "cell_type": "markdown",
   "metadata": {},
   "source": [
    "Если рассматривать все улицы, то зависимость между числом объектов и числом посадочных мест отрицательная и очень слабая."
   ]
  },
  {
   "cell_type": "code",
   "execution_count": 92,
   "metadata": {},
   "outputs": [
    {
     "data": {
      "image/png": "[encoded data removed]",
      "text/plain": [
       "<Figure size 432x432 with 3 Axes>"
      ]
     },
     "metadata": {
      "needs_background": "light"
     },
     "output_type": "display_data"
    }
   ],
   "source": [
    "sns.jointplot(x = 'object_count', y = 'number_mean', data = all_group_data, kind = 'reg')\n",
    "plt.title('Зависимсть числа посадочных мест от числа объектов общественного питания (для всех улиц)',\n",
    "         pad = 75)\n",
    "plt.xlabel('Число заведений общественного питания')\n",
    "plt.ylabel('Среднее число посадочных мест')\n",
    "#plt.savefig('15.png', dpi = 1000, bbox_inches = 'tight')\n",
    "plt.show()"
   ]
  },
  {
   "cell_type": "markdown",
   "metadata": {},
   "source": [
    "На графике зависимости показано 1912 точек."
   ]
  },
  {
   "cell_type": "markdown",
   "metadata": {},
   "source": [
    "## 2.9. Выводы и рекомендации"
   ]
  },
  {
   "cell_type": "markdown",
   "metadata": {},
   "source": [
    "Полученные данные не могут дать ответа на вопрос, насколько сильным будет отток клиентов после утраты интереса к кафе, и как быстро этот интерес пройдёт. Для этого нужно анализировать другие данные (например, количество клиентов за определённый промежуток времени с момента открытия объекта).\n",
    "\n",
    "Были получены следующие **выводы**:\n",
    "- кафе занимают примерно 40 % от всех заведений общественного питания Москвы.\n",
    "- сетевые объекты составляют примерно 20 % от всех заведений общественного питания Москвы.\n",
    "- на 1 сетевое кафе приходится 3 несетвых.\n",
    "- если в сетевом объекте общественного питания есть посадочные места, чаще всего их 20.\n",
    "- допустимый диапазон числа посадочных мест в кафе - от 0 до 100. В среднем в кафе 40 посадочных мест (медиана 30).\n",
    "- больше всего объектов общественного питания находится у проспектов, шоссе и больших улиц, т.к. они длинные (пресекают несколько районов) и способны вместить от 100 до 200 точек питания.\n",
    "- если рассматривать улицы поменьше (также с большим числом объектов общественного питания), то они соответсвуют районам, расположенным внутри Третьего Транспортного Кольца (либо ТТК проходит через район).\n",
    "- связь числа посадочных мест и количества точек общественного питания на одной улице слабая.\n",
    "\n",
    "Можно дать следующие **рекомендации** для планируемого кафе:\n",
    "- число посадочных мест от 20 до 40;\n",
    "- объект должен располагаться в пределах ТТК (например Пресненский район)."
   ]
  },
  {
   "cell_type": "markdown",
   "metadata": {},
   "source": [
    "# 3. Презентация\n",
    "\n",
    "Презентация: https://yadi.sk/i/YAjRvBMAhvU0TA"
   ]
  }
 ],
 "metadata": {
  "kernelspec": {
   "display_name": "Python 3",
   "language": "python",
   "name": "python3"
  },
  "language_info": {
   "codemirror_mode": {
    "name": "ipython",
    "version": 3
   },
   "file_extension": ".py",
   "mimetype": "text/x-python",
   "name": "python",
   "nbconvert_exporter": "python",
   "pygments_lexer": "ipython3",
   "version": "3.8.3"
  },
  "toc": {
   "base_numbering": 1,
   "nav_menu": {},
   "number_sections": false,
   "sideBar": true,
   "skip_h1_title": false,
   "title_cell": "Table of Contents",
   "title_sidebar": "Contents",
   "toc_cell": false,
   "toc_position": {},
   "toc_section_display": true,
   "toc_window_display": false
  }
 },
 "nbformat": 4,
 "nbformat_minor": 4
}
